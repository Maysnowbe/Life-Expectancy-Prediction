{
  "cells": [
    {
      "cell_type": "markdown",
      "source": [
        "Life Expectancy Data is a dataset that contains life expectancy, health, immunization, economic, and demographic information.\n",
        "\n",
        "The purpose in this analysis is to build a model that can predict the life expectancy using the given information from the dataset"
      ],
      "metadata": {
        "id": "VPurZyNVJ4XK"
      },
      "id": "VPurZyNVJ4XK"
    },
    {
      "cell_type": "code",
      "execution_count": 1,
      "id": "066b6749",
      "metadata": {
        "id": "066b6749"
      },
      "outputs": [],
      "source": [
        "import numpy as np\n",
        "import pandas as pd\n",
        "import matplotlib.pyplot as plt"
      ]
    },
    {
      "cell_type": "markdown",
      "source": [
        "### Load Data"
      ],
      "metadata": {
        "id": "8csUKe1iJIx-"
      },
      "id": "8csUKe1iJIx-"
    },
    {
      "cell_type": "code",
      "source": [
        "from google.colab import files\n",
        "\n",
        "\n",
        "uploaded = files.upload()"
      ],
      "metadata": {
        "colab": {
          "base_uri": "https://localhost:8080/",
          "height": 38
        },
        "id": "wd1aPU3JhwE6",
        "outputId": "1e773ef3-bcd4-401b-d38d-b0852126203b"
      },
      "id": "wd1aPU3JhwE6",
      "execution_count": 17,
      "outputs": [
        {
          "output_type": "display_data",
          "data": {
            "text/plain": [
              "<IPython.core.display.HTML object>"
            ],
            "text/html": [
              "\n",
              "     <input type=\"file\" id=\"files-ee19307d-bfb7-4484-8b48-24ed8bec1b1a\" name=\"files[]\" multiple disabled\n",
              "        style=\"border:none\" />\n",
              "     <output id=\"result-ee19307d-bfb7-4484-8b48-24ed8bec1b1a\">\n",
              "      Upload widget is only available when the cell has been executed in the\n",
              "      current browser session. Please rerun this cell to enable.\n",
              "      </output>\n",
              "      <script>// Copyright 2017 Google LLC\n",
              "//\n",
              "// Licensed under the Apache License, Version 2.0 (the \"License\");\n",
              "// you may not use this file except in compliance with the License.\n",
              "// You may obtain a copy of the License at\n",
              "//\n",
              "//      http://www.apache.org/licenses/LICENSE-2.0\n",
              "//\n",
              "// Unless required by applicable law or agreed to in writing, software\n",
              "// distributed under the License is distributed on an \"AS IS\" BASIS,\n",
              "// WITHOUT WARRANTIES OR CONDITIONS OF ANY KIND, either express or implied.\n",
              "// See the License for the specific language governing permissions and\n",
              "// limitations under the License.\n",
              "\n",
              "/**\n",
              " * @fileoverview Helpers for google.colab Python module.\n",
              " */\n",
              "(function(scope) {\n",
              "function span(text, styleAttributes = {}) {\n",
              "  const element = document.createElement('span');\n",
              "  element.textContent = text;\n",
              "  for (const key of Object.keys(styleAttributes)) {\n",
              "    element.style[key] = styleAttributes[key];\n",
              "  }\n",
              "  return element;\n",
              "}\n",
              "\n",
              "// Max number of bytes which will be uploaded at a time.\n",
              "const MAX_PAYLOAD_SIZE = 100 * 1024;\n",
              "\n",
              "function _uploadFiles(inputId, outputId) {\n",
              "  const steps = uploadFilesStep(inputId, outputId);\n",
              "  const outputElement = document.getElementById(outputId);\n",
              "  // Cache steps on the outputElement to make it available for the next call\n",
              "  // to uploadFilesContinue from Python.\n",
              "  outputElement.steps = steps;\n",
              "\n",
              "  return _uploadFilesContinue(outputId);\n",
              "}\n",
              "\n",
              "// This is roughly an async generator (not supported in the browser yet),\n",
              "// where there are multiple asynchronous steps and the Python side is going\n",
              "// to poll for completion of each step.\n",
              "// This uses a Promise to block the python side on completion of each step,\n",
              "// then passes the result of the previous step as the input to the next step.\n",
              "function _uploadFilesContinue(outputId) {\n",
              "  const outputElement = document.getElementById(outputId);\n",
              "  const steps = outputElement.steps;\n",
              "\n",
              "  const next = steps.next(outputElement.lastPromiseValue);\n",
              "  return Promise.resolve(next.value.promise).then((value) => {\n",
              "    // Cache the last promise value to make it available to the next\n",
              "    // step of the generator.\n",
              "    outputElement.lastPromiseValue = value;\n",
              "    return next.value.response;\n",
              "  });\n",
              "}\n",
              "\n",
              "/**\n",
              " * Generator function which is called between each async step of the upload\n",
              " * process.\n",
              " * @param {string} inputId Element ID of the input file picker element.\n",
              " * @param {string} outputId Element ID of the output display.\n",
              " * @return {!Iterable<!Object>} Iterable of next steps.\n",
              " */\n",
              "function* uploadFilesStep(inputId, outputId) {\n",
              "  const inputElement = document.getElementById(inputId);\n",
              "  inputElement.disabled = false;\n",
              "\n",
              "  const outputElement = document.getElementById(outputId);\n",
              "  outputElement.innerHTML = '';\n",
              "\n",
              "  const pickedPromise = new Promise((resolve) => {\n",
              "    inputElement.addEventListener('change', (e) => {\n",
              "      resolve(e.target.files);\n",
              "    });\n",
              "  });\n",
              "\n",
              "  const cancel = document.createElement('button');\n",
              "  inputElement.parentElement.appendChild(cancel);\n",
              "  cancel.textContent = 'Cancel upload';\n",
              "  const cancelPromise = new Promise((resolve) => {\n",
              "    cancel.onclick = () => {\n",
              "      resolve(null);\n",
              "    };\n",
              "  });\n",
              "\n",
              "  // Wait for the user to pick the files.\n",
              "  const files = yield {\n",
              "    promise: Promise.race([pickedPromise, cancelPromise]),\n",
              "    response: {\n",
              "      action: 'starting',\n",
              "    }\n",
              "  };\n",
              "\n",
              "  cancel.remove();\n",
              "\n",
              "  // Disable the input element since further picks are not allowed.\n",
              "  inputElement.disabled = true;\n",
              "\n",
              "  if (!files) {\n",
              "    return {\n",
              "      response: {\n",
              "        action: 'complete',\n",
              "      }\n",
              "    };\n",
              "  }\n",
              "\n",
              "  for (const file of files) {\n",
              "    const li = document.createElement('li');\n",
              "    li.append(span(file.name, {fontWeight: 'bold'}));\n",
              "    li.append(span(\n",
              "        `(${file.type || 'n/a'}) - ${file.size} bytes, ` +\n",
              "        `last modified: ${\n",
              "            file.lastModifiedDate ? file.lastModifiedDate.toLocaleDateString() :\n",
              "                                    'n/a'} - `));\n",
              "    const percent = span('0% done');\n",
              "    li.appendChild(percent);\n",
              "\n",
              "    outputElement.appendChild(li);\n",
              "\n",
              "    const fileDataPromise = new Promise((resolve) => {\n",
              "      const reader = new FileReader();\n",
              "      reader.onload = (e) => {\n",
              "        resolve(e.target.result);\n",
              "      };\n",
              "      reader.readAsArrayBuffer(file);\n",
              "    });\n",
              "    // Wait for the data to be ready.\n",
              "    let fileData = yield {\n",
              "      promise: fileDataPromise,\n",
              "      response: {\n",
              "        action: 'continue',\n",
              "      }\n",
              "    };\n",
              "\n",
              "    // Use a chunked sending to avoid message size limits. See b/62115660.\n",
              "    let position = 0;\n",
              "    do {\n",
              "      const length = Math.min(fileData.byteLength - position, MAX_PAYLOAD_SIZE);\n",
              "      const chunk = new Uint8Array(fileData, position, length);\n",
              "      position += length;\n",
              "\n",
              "      const base64 = btoa(String.fromCharCode.apply(null, chunk));\n",
              "      yield {\n",
              "        response: {\n",
              "          action: 'append',\n",
              "          file: file.name,\n",
              "          data: base64,\n",
              "        },\n",
              "      };\n",
              "\n",
              "      let percentDone = fileData.byteLength === 0 ?\n",
              "          100 :\n",
              "          Math.round((position / fileData.byteLength) * 100);\n",
              "      percent.textContent = `${percentDone}% done`;\n",
              "\n",
              "    } while (position < fileData.byteLength);\n",
              "  }\n",
              "\n",
              "  // All done.\n",
              "  yield {\n",
              "    response: {\n",
              "      action: 'complete',\n",
              "    }\n",
              "  };\n",
              "}\n",
              "\n",
              "scope.google = scope.google || {};\n",
              "scope.google.colab = scope.google.colab || {};\n",
              "scope.google.colab._files = {\n",
              "  _uploadFiles,\n",
              "  _uploadFilesContinue,\n",
              "};\n",
              "})(self);\n",
              "</script> "
            ]
          },
          "metadata": {}
        }
      ]
    },
    {
      "cell_type": "code",
      "execution_count": 2,
      "id": "25dc8139",
      "metadata": {
        "id": "25dc8139"
      },
      "outputs": [],
      "source": [
        "df=pd.read_csv('Life-Expectancy-Data-Updated.csv')"
      ]
    },
    {
      "cell_type": "code",
      "execution_count": 3,
      "id": "9601ccf5",
      "metadata": {
        "colab": {
          "base_uri": "https://localhost:8080/",
          "height": 603
        },
        "id": "9601ccf5",
        "outputId": "a81638b9-69e0-4c33-82a4-31077502838c"
      },
      "outputs": [
        {
          "output_type": "execute_result",
          "data": {
            "text/plain": [
              "              Country                         Region  Year  Infant_deaths  \\\n",
              "0             Turkiye                    Middle East  2015           11.1   \n",
              "1               Spain                 European Union  2015            2.7   \n",
              "2               India                           Asia  2007           51.5   \n",
              "3              Guyana                  South America  2006           32.8   \n",
              "4              Israel                    Middle East  2012            3.4   \n",
              "5          Costa Rica  Central America and Caribbean  2006            9.8   \n",
              "6  Russian Federation                 Rest of Europe  2015            6.6   \n",
              "7             Hungary                 European Union  2000            8.7   \n",
              "8              Jordan                    Middle East  2001           22.0   \n",
              "9             Moldova                 Rest of Europe  2008           15.3   \n",
              "\n",
              "   Under_five_deaths  Adult_mortality  Alcohol_consumption  Hepatitis_B  \\\n",
              "0               13.0         105.8240                 1.32           97   \n",
              "1                3.3          57.9025                10.35           97   \n",
              "2               67.9         201.0765                 1.57           60   \n",
              "3               40.5         222.1965                 5.68           93   \n",
              "4                4.3          57.9510                 2.89           97   \n",
              "5               11.2          95.2200                 4.19           88   \n",
              "6                8.2         223.0000                 8.06           97   \n",
              "7               10.1         192.9690                12.23           88   \n",
              "8               26.1         129.7640                 0.52           97   \n",
              "9               17.8         217.8570                 7.72           97   \n",
              "\n",
              "   Measles   BMI  ...  Diphtheria  Incidents_HIV  GDP_per_capita  \\\n",
              "0       65  27.8  ...          97           0.08           11006   \n",
              "1       94  26.0  ...          97           0.09           25742   \n",
              "2       35  21.2  ...          64           0.13            1076   \n",
              "3       74  25.3  ...          93           0.79            4146   \n",
              "4       89  27.0  ...          94           0.08           33995   \n",
              "5       86  26.4  ...          89           0.16            9110   \n",
              "6       97  26.2  ...          97           0.08            9313   \n",
              "7       99  25.9  ...          99           0.08            8971   \n",
              "8       87  27.9  ...          99           0.13            3708   \n",
              "9       92  26.5  ...          90           0.43            2235   \n",
              "\n",
              "   Population_mln  Thinness_ten_nineteen_years  Thinness_five_nine_years  \\\n",
              "0           78.53                          4.9                       4.8   \n",
              "1           46.44                          0.6                       0.5   \n",
              "2         1183.21                         27.1                      28.0   \n",
              "3            0.75                          5.7                       5.5   \n",
              "4            7.91                          1.2                       1.1   \n",
              "5            4.35                          2.0                       1.9   \n",
              "6          144.10                          2.3                       2.3   \n",
              "7           10.21                          2.3                       2.3   \n",
              "8            5.22                          4.0                       3.9   \n",
              "9            2.87                          2.9                       3.1   \n",
              "\n",
              "   Schooling  Economy_status_Developed  Economy_status_Developing  \\\n",
              "0        7.8                         0                          1   \n",
              "1        9.7                         1                          0   \n",
              "2        5.0                         0                          1   \n",
              "3        7.9                         0                          1   \n",
              "4       12.8                         1                          0   \n",
              "5        7.9                         0                          1   \n",
              "6       12.0                         0                          1   \n",
              "7       10.2                         1                          0   \n",
              "8        9.6                         0                          1   \n",
              "9       10.9                         0                          1   \n",
              "\n",
              "   Life_expectancy  \n",
              "0             76.5  \n",
              "1             82.8  \n",
              "2             65.4  \n",
              "3             67.0  \n",
              "4             81.7  \n",
              "5             78.2  \n",
              "6             71.2  \n",
              "7             71.2  \n",
              "8             71.9  \n",
              "9             68.7  \n",
              "\n",
              "[10 rows x 21 columns]"
            ],
            "text/html": [
              "\n",
              "  <div id=\"df-748aec77-517e-41e8-8a7d-b79938a5ebe0\" class=\"colab-df-container\">\n",
              "    <div>\n",
              "<style scoped>\n",
              "    .dataframe tbody tr th:only-of-type {\n",
              "        vertical-align: middle;\n",
              "    }\n",
              "\n",
              "    .dataframe tbody tr th {\n",
              "        vertical-align: top;\n",
              "    }\n",
              "\n",
              "    .dataframe thead th {\n",
              "        text-align: right;\n",
              "    }\n",
              "</style>\n",
              "<table border=\"1\" class=\"dataframe\">\n",
              "  <thead>\n",
              "    <tr style=\"text-align: right;\">\n",
              "      <th></th>\n",
              "      <th>Country</th>\n",
              "      <th>Region</th>\n",
              "      <th>Year</th>\n",
              "      <th>Infant_deaths</th>\n",
              "      <th>Under_five_deaths</th>\n",
              "      <th>Adult_mortality</th>\n",
              "      <th>Alcohol_consumption</th>\n",
              "      <th>Hepatitis_B</th>\n",
              "      <th>Measles</th>\n",
              "      <th>BMI</th>\n",
              "      <th>...</th>\n",
              "      <th>Diphtheria</th>\n",
              "      <th>Incidents_HIV</th>\n",
              "      <th>GDP_per_capita</th>\n",
              "      <th>Population_mln</th>\n",
              "      <th>Thinness_ten_nineteen_years</th>\n",
              "      <th>Thinness_five_nine_years</th>\n",
              "      <th>Schooling</th>\n",
              "      <th>Economy_status_Developed</th>\n",
              "      <th>Economy_status_Developing</th>\n",
              "      <th>Life_expectancy</th>\n",
              "    </tr>\n",
              "  </thead>\n",
              "  <tbody>\n",
              "    <tr>\n",
              "      <th>0</th>\n",
              "      <td>Turkiye</td>\n",
              "      <td>Middle East</td>\n",
              "      <td>2015</td>\n",
              "      <td>11.1</td>\n",
              "      <td>13.0</td>\n",
              "      <td>105.8240</td>\n",
              "      <td>1.32</td>\n",
              "      <td>97</td>\n",
              "      <td>65</td>\n",
              "      <td>27.8</td>\n",
              "      <td>...</td>\n",
              "      <td>97</td>\n",
              "      <td>0.08</td>\n",
              "      <td>11006</td>\n",
              "      <td>78.53</td>\n",
              "      <td>4.9</td>\n",
              "      <td>4.8</td>\n",
              "      <td>7.8</td>\n",
              "      <td>0</td>\n",
              "      <td>1</td>\n",
              "      <td>76.5</td>\n",
              "    </tr>\n",
              "    <tr>\n",
              "      <th>1</th>\n",
              "      <td>Spain</td>\n",
              "      <td>European Union</td>\n",
              "      <td>2015</td>\n",
              "      <td>2.7</td>\n",
              "      <td>3.3</td>\n",
              "      <td>57.9025</td>\n",
              "      <td>10.35</td>\n",
              "      <td>97</td>\n",
              "      <td>94</td>\n",
              "      <td>26.0</td>\n",
              "      <td>...</td>\n",
              "      <td>97</td>\n",
              "      <td>0.09</td>\n",
              "      <td>25742</td>\n",
              "      <td>46.44</td>\n",
              "      <td>0.6</td>\n",
              "      <td>0.5</td>\n",
              "      <td>9.7</td>\n",
              "      <td>1</td>\n",
              "      <td>0</td>\n",
              "      <td>82.8</td>\n",
              "    </tr>\n",
              "    <tr>\n",
              "      <th>2</th>\n",
              "      <td>India</td>\n",
              "      <td>Asia</td>\n",
              "      <td>2007</td>\n",
              "      <td>51.5</td>\n",
              "      <td>67.9</td>\n",
              "      <td>201.0765</td>\n",
              "      <td>1.57</td>\n",
              "      <td>60</td>\n",
              "      <td>35</td>\n",
              "      <td>21.2</td>\n",
              "      <td>...</td>\n",
              "      <td>64</td>\n",
              "      <td>0.13</td>\n",
              "      <td>1076</td>\n",
              "      <td>1183.21</td>\n",
              "      <td>27.1</td>\n",
              "      <td>28.0</td>\n",
              "      <td>5.0</td>\n",
              "      <td>0</td>\n",
              "      <td>1</td>\n",
              "      <td>65.4</td>\n",
              "    </tr>\n",
              "    <tr>\n",
              "      <th>3</th>\n",
              "      <td>Guyana</td>\n",
              "      <td>South America</td>\n",
              "      <td>2006</td>\n",
              "      <td>32.8</td>\n",
              "      <td>40.5</td>\n",
              "      <td>222.1965</td>\n",
              "      <td>5.68</td>\n",
              "      <td>93</td>\n",
              "      <td>74</td>\n",
              "      <td>25.3</td>\n",
              "      <td>...</td>\n",
              "      <td>93</td>\n",
              "      <td>0.79</td>\n",
              "      <td>4146</td>\n",
              "      <td>0.75</td>\n",
              "      <td>5.7</td>\n",
              "      <td>5.5</td>\n",
              "      <td>7.9</td>\n",
              "      <td>0</td>\n",
              "      <td>1</td>\n",
              "      <td>67.0</td>\n",
              "    </tr>\n",
              "    <tr>\n",
              "      <th>4</th>\n",
              "      <td>Israel</td>\n",
              "      <td>Middle East</td>\n",
              "      <td>2012</td>\n",
              "      <td>3.4</td>\n",
              "      <td>4.3</td>\n",
              "      <td>57.9510</td>\n",
              "      <td>2.89</td>\n",
              "      <td>97</td>\n",
              "      <td>89</td>\n",
              "      <td>27.0</td>\n",
              "      <td>...</td>\n",
              "      <td>94</td>\n",
              "      <td>0.08</td>\n",
              "      <td>33995</td>\n",
              "      <td>7.91</td>\n",
              "      <td>1.2</td>\n",
              "      <td>1.1</td>\n",
              "      <td>12.8</td>\n",
              "      <td>1</td>\n",
              "      <td>0</td>\n",
              "      <td>81.7</td>\n",
              "    </tr>\n",
              "    <tr>\n",
              "      <th>5</th>\n",
              "      <td>Costa Rica</td>\n",
              "      <td>Central America and Caribbean</td>\n",
              "      <td>2006</td>\n",
              "      <td>9.8</td>\n",
              "      <td>11.2</td>\n",
              "      <td>95.2200</td>\n",
              "      <td>4.19</td>\n",
              "      <td>88</td>\n",
              "      <td>86</td>\n",
              "      <td>26.4</td>\n",
              "      <td>...</td>\n",
              "      <td>89</td>\n",
              "      <td>0.16</td>\n",
              "      <td>9110</td>\n",
              "      <td>4.35</td>\n",
              "      <td>2.0</td>\n",
              "      <td>1.9</td>\n",
              "      <td>7.9</td>\n",
              "      <td>0</td>\n",
              "      <td>1</td>\n",
              "      <td>78.2</td>\n",
              "    </tr>\n",
              "    <tr>\n",
              "      <th>6</th>\n",
              "      <td>Russian Federation</td>\n",
              "      <td>Rest of Europe</td>\n",
              "      <td>2015</td>\n",
              "      <td>6.6</td>\n",
              "      <td>8.2</td>\n",
              "      <td>223.0000</td>\n",
              "      <td>8.06</td>\n",
              "      <td>97</td>\n",
              "      <td>97</td>\n",
              "      <td>26.2</td>\n",
              "      <td>...</td>\n",
              "      <td>97</td>\n",
              "      <td>0.08</td>\n",
              "      <td>9313</td>\n",
              "      <td>144.10</td>\n",
              "      <td>2.3</td>\n",
              "      <td>2.3</td>\n",
              "      <td>12.0</td>\n",
              "      <td>0</td>\n",
              "      <td>1</td>\n",
              "      <td>71.2</td>\n",
              "    </tr>\n",
              "    <tr>\n",
              "      <th>7</th>\n",
              "      <td>Hungary</td>\n",
              "      <td>European Union</td>\n",
              "      <td>2000</td>\n",
              "      <td>8.7</td>\n",
              "      <td>10.1</td>\n",
              "      <td>192.9690</td>\n",
              "      <td>12.23</td>\n",
              "      <td>88</td>\n",
              "      <td>99</td>\n",
              "      <td>25.9</td>\n",
              "      <td>...</td>\n",
              "      <td>99</td>\n",
              "      <td>0.08</td>\n",
              "      <td>8971</td>\n",
              "      <td>10.21</td>\n",
              "      <td>2.3</td>\n",
              "      <td>2.3</td>\n",
              "      <td>10.2</td>\n",
              "      <td>1</td>\n",
              "      <td>0</td>\n",
              "      <td>71.2</td>\n",
              "    </tr>\n",
              "    <tr>\n",
              "      <th>8</th>\n",
              "      <td>Jordan</td>\n",
              "      <td>Middle East</td>\n",
              "      <td>2001</td>\n",
              "      <td>22.0</td>\n",
              "      <td>26.1</td>\n",
              "      <td>129.7640</td>\n",
              "      <td>0.52</td>\n",
              "      <td>97</td>\n",
              "      <td>87</td>\n",
              "      <td>27.9</td>\n",
              "      <td>...</td>\n",
              "      <td>99</td>\n",
              "      <td>0.13</td>\n",
              "      <td>3708</td>\n",
              "      <td>5.22</td>\n",
              "      <td>4.0</td>\n",
              "      <td>3.9</td>\n",
              "      <td>9.6</td>\n",
              "      <td>0</td>\n",
              "      <td>1</td>\n",
              "      <td>71.9</td>\n",
              "    </tr>\n",
              "    <tr>\n",
              "      <th>9</th>\n",
              "      <td>Moldova</td>\n",
              "      <td>Rest of Europe</td>\n",
              "      <td>2008</td>\n",
              "      <td>15.3</td>\n",
              "      <td>17.8</td>\n",
              "      <td>217.8570</td>\n",
              "      <td>7.72</td>\n",
              "      <td>97</td>\n",
              "      <td>92</td>\n",
              "      <td>26.5</td>\n",
              "      <td>...</td>\n",
              "      <td>90</td>\n",
              "      <td>0.43</td>\n",
              "      <td>2235</td>\n",
              "      <td>2.87</td>\n",
              "      <td>2.9</td>\n",
              "      <td>3.1</td>\n",
              "      <td>10.9</td>\n",
              "      <td>0</td>\n",
              "      <td>1</td>\n",
              "      <td>68.7</td>\n",
              "    </tr>\n",
              "  </tbody>\n",
              "</table>\n",
              "<p>10 rows × 21 columns</p>\n",
              "</div>\n",
              "    <div class=\"colab-df-buttons\">\n",
              "\n",
              "  <div class=\"colab-df-container\">\n",
              "    <button class=\"colab-df-convert\" onclick=\"convertToInteractive('df-748aec77-517e-41e8-8a7d-b79938a5ebe0')\"\n",
              "            title=\"Convert this dataframe to an interactive table.\"\n",
              "            style=\"display:none;\">\n",
              "\n",
              "  <svg xmlns=\"http://www.w3.org/2000/svg\" height=\"24px\" viewBox=\"0 -960 960 960\">\n",
              "    <path d=\"M120-120v-720h720v720H120Zm60-500h600v-160H180v160Zm220 220h160v-160H400v160Zm0 220h160v-160H400v160ZM180-400h160v-160H180v160Zm440 0h160v-160H620v160ZM180-180h160v-160H180v160Zm440 0h160v-160H620v160Z\"/>\n",
              "  </svg>\n",
              "    </button>\n",
              "\n",
              "  <style>\n",
              "    .colab-df-container {\n",
              "      display:flex;\n",
              "      gap: 12px;\n",
              "    }\n",
              "\n",
              "    .colab-df-convert {\n",
              "      background-color: #E8F0FE;\n",
              "      border: none;\n",
              "      border-radius: 50%;\n",
              "      cursor: pointer;\n",
              "      display: none;\n",
              "      fill: #1967D2;\n",
              "      height: 32px;\n",
              "      padding: 0 0 0 0;\n",
              "      width: 32px;\n",
              "    }\n",
              "\n",
              "    .colab-df-convert:hover {\n",
              "      background-color: #E2EBFA;\n",
              "      box-shadow: 0px 1px 2px rgba(60, 64, 67, 0.3), 0px 1px 3px 1px rgba(60, 64, 67, 0.15);\n",
              "      fill: #174EA6;\n",
              "    }\n",
              "\n",
              "    .colab-df-buttons div {\n",
              "      margin-bottom: 4px;\n",
              "    }\n",
              "\n",
              "    [theme=dark] .colab-df-convert {\n",
              "      background-color: #3B4455;\n",
              "      fill: #D2E3FC;\n",
              "    }\n",
              "\n",
              "    [theme=dark] .colab-df-convert:hover {\n",
              "      background-color: #434B5C;\n",
              "      box-shadow: 0px 1px 3px 1px rgba(0, 0, 0, 0.15);\n",
              "      filter: drop-shadow(0px 1px 2px rgba(0, 0, 0, 0.3));\n",
              "      fill: #FFFFFF;\n",
              "    }\n",
              "  </style>\n",
              "\n",
              "    <script>\n",
              "      const buttonEl =\n",
              "        document.querySelector('#df-748aec77-517e-41e8-8a7d-b79938a5ebe0 button.colab-df-convert');\n",
              "      buttonEl.style.display =\n",
              "        google.colab.kernel.accessAllowed ? 'block' : 'none';\n",
              "\n",
              "      async function convertToInteractive(key) {\n",
              "        const element = document.querySelector('#df-748aec77-517e-41e8-8a7d-b79938a5ebe0');\n",
              "        const dataTable =\n",
              "          await google.colab.kernel.invokeFunction('convertToInteractive',\n",
              "                                                    [key], {});\n",
              "        if (!dataTable) return;\n",
              "\n",
              "        const docLinkHtml = 'Like what you see? Visit the ' +\n",
              "          '<a target=\"_blank\" href=https://colab.research.google.com/notebooks/data_table.ipynb>data table notebook</a>'\n",
              "          + ' to learn more about interactive tables.';\n",
              "        element.innerHTML = '';\n",
              "        dataTable['output_type'] = 'display_data';\n",
              "        await google.colab.output.renderOutput(dataTable, element);\n",
              "        const docLink = document.createElement('div');\n",
              "        docLink.innerHTML = docLinkHtml;\n",
              "        element.appendChild(docLink);\n",
              "      }\n",
              "    </script>\n",
              "  </div>\n",
              "\n",
              "\n",
              "<div id=\"df-ccb4d4c4-c6dd-41d5-8d89-26e1261171a4\">\n",
              "  <button class=\"colab-df-quickchart\" onclick=\"quickchart('df-ccb4d4c4-c6dd-41d5-8d89-26e1261171a4')\"\n",
              "            title=\"Suggest charts\"\n",
              "            style=\"display:none;\">\n",
              "\n",
              "<svg xmlns=\"http://www.w3.org/2000/svg\" height=\"24px\"viewBox=\"0 0 24 24\"\n",
              "     width=\"24px\">\n",
              "    <g>\n",
              "        <path d=\"M19 3H5c-1.1 0-2 .9-2 2v14c0 1.1.9 2 2 2h14c1.1 0 2-.9 2-2V5c0-1.1-.9-2-2-2zM9 17H7v-7h2v7zm4 0h-2V7h2v10zm4 0h-2v-4h2v4z\"/>\n",
              "    </g>\n",
              "</svg>\n",
              "  </button>\n",
              "\n",
              "<style>\n",
              "  .colab-df-quickchart {\n",
              "      --bg-color: #E8F0FE;\n",
              "      --fill-color: #1967D2;\n",
              "      --hover-bg-color: #E2EBFA;\n",
              "      --hover-fill-color: #174EA6;\n",
              "      --disabled-fill-color: #AAA;\n",
              "      --disabled-bg-color: #DDD;\n",
              "  }\n",
              "\n",
              "  [theme=dark] .colab-df-quickchart {\n",
              "      --bg-color: #3B4455;\n",
              "      --fill-color: #D2E3FC;\n",
              "      --hover-bg-color: #434B5C;\n",
              "      --hover-fill-color: #FFFFFF;\n",
              "      --disabled-bg-color: #3B4455;\n",
              "      --disabled-fill-color: #666;\n",
              "  }\n",
              "\n",
              "  .colab-df-quickchart {\n",
              "    background-color: var(--bg-color);\n",
              "    border: none;\n",
              "    border-radius: 50%;\n",
              "    cursor: pointer;\n",
              "    display: none;\n",
              "    fill: var(--fill-color);\n",
              "    height: 32px;\n",
              "    padding: 0;\n",
              "    width: 32px;\n",
              "  }\n",
              "\n",
              "  .colab-df-quickchart:hover {\n",
              "    background-color: var(--hover-bg-color);\n",
              "    box-shadow: 0 1px 2px rgba(60, 64, 67, 0.3), 0 1px 3px 1px rgba(60, 64, 67, 0.15);\n",
              "    fill: var(--button-hover-fill-color);\n",
              "  }\n",
              "\n",
              "  .colab-df-quickchart-complete:disabled,\n",
              "  .colab-df-quickchart-complete:disabled:hover {\n",
              "    background-color: var(--disabled-bg-color);\n",
              "    fill: var(--disabled-fill-color);\n",
              "    box-shadow: none;\n",
              "  }\n",
              "\n",
              "  .colab-df-spinner {\n",
              "    border: 2px solid var(--fill-color);\n",
              "    border-color: transparent;\n",
              "    border-bottom-color: var(--fill-color);\n",
              "    animation:\n",
              "      spin 1s steps(1) infinite;\n",
              "  }\n",
              "\n",
              "  @keyframes spin {\n",
              "    0% {\n",
              "      border-color: transparent;\n",
              "      border-bottom-color: var(--fill-color);\n",
              "      border-left-color: var(--fill-color);\n",
              "    }\n",
              "    20% {\n",
              "      border-color: transparent;\n",
              "      border-left-color: var(--fill-color);\n",
              "      border-top-color: var(--fill-color);\n",
              "    }\n",
              "    30% {\n",
              "      border-color: transparent;\n",
              "      border-left-color: var(--fill-color);\n",
              "      border-top-color: var(--fill-color);\n",
              "      border-right-color: var(--fill-color);\n",
              "    }\n",
              "    40% {\n",
              "      border-color: transparent;\n",
              "      border-right-color: var(--fill-color);\n",
              "      border-top-color: var(--fill-color);\n",
              "    }\n",
              "    60% {\n",
              "      border-color: transparent;\n",
              "      border-right-color: var(--fill-color);\n",
              "    }\n",
              "    80% {\n",
              "      border-color: transparent;\n",
              "      border-right-color: var(--fill-color);\n",
              "      border-bottom-color: var(--fill-color);\n",
              "    }\n",
              "    90% {\n",
              "      border-color: transparent;\n",
              "      border-bottom-color: var(--fill-color);\n",
              "    }\n",
              "  }\n",
              "</style>\n",
              "\n",
              "  <script>\n",
              "    async function quickchart(key) {\n",
              "      const quickchartButtonEl =\n",
              "        document.querySelector('#' + key + ' button');\n",
              "      quickchartButtonEl.disabled = true;  // To prevent multiple clicks.\n",
              "      quickchartButtonEl.classList.add('colab-df-spinner');\n",
              "      try {\n",
              "        const charts = await google.colab.kernel.invokeFunction(\n",
              "            'suggestCharts', [key], {});\n",
              "      } catch (error) {\n",
              "        console.error('Error during call to suggestCharts:', error);\n",
              "      }\n",
              "      quickchartButtonEl.classList.remove('colab-df-spinner');\n",
              "      quickchartButtonEl.classList.add('colab-df-quickchart-complete');\n",
              "    }\n",
              "    (() => {\n",
              "      let quickchartButtonEl =\n",
              "        document.querySelector('#df-ccb4d4c4-c6dd-41d5-8d89-26e1261171a4 button');\n",
              "      quickchartButtonEl.style.display =\n",
              "        google.colab.kernel.accessAllowed ? 'block' : 'none';\n",
              "    })();\n",
              "  </script>\n",
              "</div>\n",
              "\n",
              "    </div>\n",
              "  </div>\n"
            ],
            "application/vnd.google.colaboratory.intrinsic+json": {
              "type": "dataframe",
              "variable_name": "df"
            }
          },
          "metadata": {},
          "execution_count": 3
        }
      ],
      "source": [
        "df.head(10)"
      ]
    },
    {
      "cell_type": "code",
      "execution_count": 4,
      "id": "6f0e259a",
      "metadata": {
        "colab": {
          "base_uri": "https://localhost:8080/"
        },
        "id": "6f0e259a",
        "outputId": "c0f576ea-b094-4199-eee3-adda8fa3d02d"
      },
      "outputs": [
        {
          "output_type": "execute_result",
          "data": {
            "text/plain": [
              "(2864, 21)"
            ]
          },
          "metadata": {},
          "execution_count": 4
        }
      ],
      "source": [
        "df.shape"
      ]
    },
    {
      "cell_type": "code",
      "execution_count": 5,
      "id": "62887ec5",
      "metadata": {
        "colab": {
          "base_uri": "https://localhost:8080/"
        },
        "id": "62887ec5",
        "outputId": "f268dd89-63fe-4492-ff65-952483a404ed"
      },
      "outputs": [
        {
          "output_type": "execute_result",
          "data": {
            "text/plain": [
              "Index(['Country', 'Region', 'Year', 'Infant_deaths', 'Under_five_deaths',\n",
              "       'Adult_mortality', 'Alcohol_consumption', 'Hepatitis_B', 'Measles',\n",
              "       'BMI', 'Polio', 'Diphtheria', 'Incidents_HIV', 'GDP_per_capita',\n",
              "       'Population_mln', 'Thinness_ten_nineteen_years',\n",
              "       'Thinness_five_nine_years', 'Schooling', 'Economy_status_Developed',\n",
              "       'Economy_status_Developing', 'Life_expectancy'],\n",
              "      dtype='object')"
            ]
          },
          "metadata": {},
          "execution_count": 5
        }
      ],
      "source": [
        "df.columns"
      ]
    },
    {
      "cell_type": "code",
      "execution_count": 6,
      "id": "ffd0989c",
      "metadata": {
        "scrolled": false,
        "id": "ffd0989c",
        "outputId": "6c1585e1-a122-4336-a7b7-c59cf5bfbf42",
        "colab": {
          "base_uri": "https://localhost:8080/"
        }
      },
      "outputs": [
        {
          "output_type": "stream",
          "name": "stdout",
          "text": [
            "<class 'pandas.core.frame.DataFrame'>\n",
            "RangeIndex: 2864 entries, 0 to 2863\n",
            "Data columns (total 21 columns):\n",
            " #   Column                       Non-Null Count  Dtype  \n",
            "---  ------                       --------------  -----  \n",
            " 0   Country                      2864 non-null   object \n",
            " 1   Region                       2864 non-null   object \n",
            " 2   Year                         2864 non-null   int64  \n",
            " 3   Infant_deaths                2864 non-null   float64\n",
            " 4   Under_five_deaths            2864 non-null   float64\n",
            " 5   Adult_mortality              2864 non-null   float64\n",
            " 6   Alcohol_consumption          2864 non-null   float64\n",
            " 7   Hepatitis_B                  2864 non-null   int64  \n",
            " 8   Measles                      2864 non-null   int64  \n",
            " 9   BMI                          2864 non-null   float64\n",
            " 10  Polio                        2864 non-null   int64  \n",
            " 11  Diphtheria                   2864 non-null   int64  \n",
            " 12  Incidents_HIV                2864 non-null   float64\n",
            " 13  GDP_per_capita               2864 non-null   int64  \n",
            " 14  Population_mln               2864 non-null   float64\n",
            " 15  Thinness_ten_nineteen_years  2864 non-null   float64\n",
            " 16  Thinness_five_nine_years     2864 non-null   float64\n",
            " 17  Schooling                    2864 non-null   float64\n",
            " 18  Economy_status_Developed     2864 non-null   int64  \n",
            " 19  Economy_status_Developing    2864 non-null   int64  \n",
            " 20  Life_expectancy              2864 non-null   float64\n",
            "dtypes: float64(11), int64(8), object(2)\n",
            "memory usage: 470.0+ KB\n"
          ]
        }
      ],
      "source": [
        "df.info()"
      ]
    },
    {
      "cell_type": "code",
      "source": [
        "df_num = df.select_dtypes(include=['float64', 'int64'])"
      ],
      "metadata": {
        "id": "JhUzT4WZEFL2"
      },
      "id": "JhUzT4WZEFL2",
      "execution_count": 7,
      "outputs": []
    },
    {
      "cell_type": "code",
      "source": [
        "df_str = df.select_dtypes(include=['object'])"
      ],
      "metadata": {
        "id": "KwPjylk3E-jW"
      },
      "id": "KwPjylk3E-jW",
      "execution_count": 8,
      "outputs": []
    },
    {
      "cell_type": "markdown",
      "source": [
        "From the informations above, it can be seen that the dataset consists of 19 variables that are numeric and 2 variables that are string."
      ],
      "metadata": {
        "id": "DyJvO5umKxi1"
      },
      "id": "DyJvO5umKxi1"
    },
    {
      "cell_type": "code",
      "source": [
        "df.head()"
      ],
      "metadata": {
        "colab": {
          "base_uri": "https://localhost:8080/",
          "height": 325
        },
        "id": "y_uFA7rAOP65",
        "outputId": "6eb9f7b2-2ce8-470b-e0d3-a4071fc21f2a"
      },
      "id": "y_uFA7rAOP65",
      "execution_count": 9,
      "outputs": [
        {
          "output_type": "execute_result",
          "data": {
            "text/plain": [
              "   Country          Region  Year  Infant_deaths  Under_five_deaths  \\\n",
              "0  Turkiye     Middle East  2015           11.1               13.0   \n",
              "1    Spain  European Union  2015            2.7                3.3   \n",
              "2    India            Asia  2007           51.5               67.9   \n",
              "3   Guyana   South America  2006           32.8               40.5   \n",
              "4   Israel     Middle East  2012            3.4                4.3   \n",
              "\n",
              "   Adult_mortality  Alcohol_consumption  Hepatitis_B  Measles   BMI  ...  \\\n",
              "0         105.8240                 1.32           97       65  27.8  ...   \n",
              "1          57.9025                10.35           97       94  26.0  ...   \n",
              "2         201.0765                 1.57           60       35  21.2  ...   \n",
              "3         222.1965                 5.68           93       74  25.3  ...   \n",
              "4          57.9510                 2.89           97       89  27.0  ...   \n",
              "\n",
              "   Diphtheria  Incidents_HIV  GDP_per_capita  Population_mln  \\\n",
              "0          97           0.08           11006           78.53   \n",
              "1          97           0.09           25742           46.44   \n",
              "2          64           0.13            1076         1183.21   \n",
              "3          93           0.79            4146            0.75   \n",
              "4          94           0.08           33995            7.91   \n",
              "\n",
              "   Thinness_ten_nineteen_years  Thinness_five_nine_years  Schooling  \\\n",
              "0                          4.9                       4.8        7.8   \n",
              "1                          0.6                       0.5        9.7   \n",
              "2                         27.1                      28.0        5.0   \n",
              "3                          5.7                       5.5        7.9   \n",
              "4                          1.2                       1.1       12.8   \n",
              "\n",
              "   Economy_status_Developed  Economy_status_Developing  Life_expectancy  \n",
              "0                         0                          1             76.5  \n",
              "1                         1                          0             82.8  \n",
              "2                         0                          1             65.4  \n",
              "3                         0                          1             67.0  \n",
              "4                         1                          0             81.7  \n",
              "\n",
              "[5 rows x 21 columns]"
            ],
            "text/html": [
              "\n",
              "  <div id=\"df-de737c2f-68d9-4026-9051-9019c3887d62\" class=\"colab-df-container\">\n",
              "    <div>\n",
              "<style scoped>\n",
              "    .dataframe tbody tr th:only-of-type {\n",
              "        vertical-align: middle;\n",
              "    }\n",
              "\n",
              "    .dataframe tbody tr th {\n",
              "        vertical-align: top;\n",
              "    }\n",
              "\n",
              "    .dataframe thead th {\n",
              "        text-align: right;\n",
              "    }\n",
              "</style>\n",
              "<table border=\"1\" class=\"dataframe\">\n",
              "  <thead>\n",
              "    <tr style=\"text-align: right;\">\n",
              "      <th></th>\n",
              "      <th>Country</th>\n",
              "      <th>Region</th>\n",
              "      <th>Year</th>\n",
              "      <th>Infant_deaths</th>\n",
              "      <th>Under_five_deaths</th>\n",
              "      <th>Adult_mortality</th>\n",
              "      <th>Alcohol_consumption</th>\n",
              "      <th>Hepatitis_B</th>\n",
              "      <th>Measles</th>\n",
              "      <th>BMI</th>\n",
              "      <th>...</th>\n",
              "      <th>Diphtheria</th>\n",
              "      <th>Incidents_HIV</th>\n",
              "      <th>GDP_per_capita</th>\n",
              "      <th>Population_mln</th>\n",
              "      <th>Thinness_ten_nineteen_years</th>\n",
              "      <th>Thinness_five_nine_years</th>\n",
              "      <th>Schooling</th>\n",
              "      <th>Economy_status_Developed</th>\n",
              "      <th>Economy_status_Developing</th>\n",
              "      <th>Life_expectancy</th>\n",
              "    </tr>\n",
              "  </thead>\n",
              "  <tbody>\n",
              "    <tr>\n",
              "      <th>0</th>\n",
              "      <td>Turkiye</td>\n",
              "      <td>Middle East</td>\n",
              "      <td>2015</td>\n",
              "      <td>11.1</td>\n",
              "      <td>13.0</td>\n",
              "      <td>105.8240</td>\n",
              "      <td>1.32</td>\n",
              "      <td>97</td>\n",
              "      <td>65</td>\n",
              "      <td>27.8</td>\n",
              "      <td>...</td>\n",
              "      <td>97</td>\n",
              "      <td>0.08</td>\n",
              "      <td>11006</td>\n",
              "      <td>78.53</td>\n",
              "      <td>4.9</td>\n",
              "      <td>4.8</td>\n",
              "      <td>7.8</td>\n",
              "      <td>0</td>\n",
              "      <td>1</td>\n",
              "      <td>76.5</td>\n",
              "    </tr>\n",
              "    <tr>\n",
              "      <th>1</th>\n",
              "      <td>Spain</td>\n",
              "      <td>European Union</td>\n",
              "      <td>2015</td>\n",
              "      <td>2.7</td>\n",
              "      <td>3.3</td>\n",
              "      <td>57.9025</td>\n",
              "      <td>10.35</td>\n",
              "      <td>97</td>\n",
              "      <td>94</td>\n",
              "      <td>26.0</td>\n",
              "      <td>...</td>\n",
              "      <td>97</td>\n",
              "      <td>0.09</td>\n",
              "      <td>25742</td>\n",
              "      <td>46.44</td>\n",
              "      <td>0.6</td>\n",
              "      <td>0.5</td>\n",
              "      <td>9.7</td>\n",
              "      <td>1</td>\n",
              "      <td>0</td>\n",
              "      <td>82.8</td>\n",
              "    </tr>\n",
              "    <tr>\n",
              "      <th>2</th>\n",
              "      <td>India</td>\n",
              "      <td>Asia</td>\n",
              "      <td>2007</td>\n",
              "      <td>51.5</td>\n",
              "      <td>67.9</td>\n",
              "      <td>201.0765</td>\n",
              "      <td>1.57</td>\n",
              "      <td>60</td>\n",
              "      <td>35</td>\n",
              "      <td>21.2</td>\n",
              "      <td>...</td>\n",
              "      <td>64</td>\n",
              "      <td>0.13</td>\n",
              "      <td>1076</td>\n",
              "      <td>1183.21</td>\n",
              "      <td>27.1</td>\n",
              "      <td>28.0</td>\n",
              "      <td>5.0</td>\n",
              "      <td>0</td>\n",
              "      <td>1</td>\n",
              "      <td>65.4</td>\n",
              "    </tr>\n",
              "    <tr>\n",
              "      <th>3</th>\n",
              "      <td>Guyana</td>\n",
              "      <td>South America</td>\n",
              "      <td>2006</td>\n",
              "      <td>32.8</td>\n",
              "      <td>40.5</td>\n",
              "      <td>222.1965</td>\n",
              "      <td>5.68</td>\n",
              "      <td>93</td>\n",
              "      <td>74</td>\n",
              "      <td>25.3</td>\n",
              "      <td>...</td>\n",
              "      <td>93</td>\n",
              "      <td>0.79</td>\n",
              "      <td>4146</td>\n",
              "      <td>0.75</td>\n",
              "      <td>5.7</td>\n",
              "      <td>5.5</td>\n",
              "      <td>7.9</td>\n",
              "      <td>0</td>\n",
              "      <td>1</td>\n",
              "      <td>67.0</td>\n",
              "    </tr>\n",
              "    <tr>\n",
              "      <th>4</th>\n",
              "      <td>Israel</td>\n",
              "      <td>Middle East</td>\n",
              "      <td>2012</td>\n",
              "      <td>3.4</td>\n",
              "      <td>4.3</td>\n",
              "      <td>57.9510</td>\n",
              "      <td>2.89</td>\n",
              "      <td>97</td>\n",
              "      <td>89</td>\n",
              "      <td>27.0</td>\n",
              "      <td>...</td>\n",
              "      <td>94</td>\n",
              "      <td>0.08</td>\n",
              "      <td>33995</td>\n",
              "      <td>7.91</td>\n",
              "      <td>1.2</td>\n",
              "      <td>1.1</td>\n",
              "      <td>12.8</td>\n",
              "      <td>1</td>\n",
              "      <td>0</td>\n",
              "      <td>81.7</td>\n",
              "    </tr>\n",
              "  </tbody>\n",
              "</table>\n",
              "<p>5 rows × 21 columns</p>\n",
              "</div>\n",
              "    <div class=\"colab-df-buttons\">\n",
              "\n",
              "  <div class=\"colab-df-container\">\n",
              "    <button class=\"colab-df-convert\" onclick=\"convertToInteractive('df-de737c2f-68d9-4026-9051-9019c3887d62')\"\n",
              "            title=\"Convert this dataframe to an interactive table.\"\n",
              "            style=\"display:none;\">\n",
              "\n",
              "  <svg xmlns=\"http://www.w3.org/2000/svg\" height=\"24px\" viewBox=\"0 -960 960 960\">\n",
              "    <path d=\"M120-120v-720h720v720H120Zm60-500h600v-160H180v160Zm220 220h160v-160H400v160Zm0 220h160v-160H400v160ZM180-400h160v-160H180v160Zm440 0h160v-160H620v160ZM180-180h160v-160H180v160Zm440 0h160v-160H620v160Z\"/>\n",
              "  </svg>\n",
              "    </button>\n",
              "\n",
              "  <style>\n",
              "    .colab-df-container {\n",
              "      display:flex;\n",
              "      gap: 12px;\n",
              "    }\n",
              "\n",
              "    .colab-df-convert {\n",
              "      background-color: #E8F0FE;\n",
              "      border: none;\n",
              "      border-radius: 50%;\n",
              "      cursor: pointer;\n",
              "      display: none;\n",
              "      fill: #1967D2;\n",
              "      height: 32px;\n",
              "      padding: 0 0 0 0;\n",
              "      width: 32px;\n",
              "    }\n",
              "\n",
              "    .colab-df-convert:hover {\n",
              "      background-color: #E2EBFA;\n",
              "      box-shadow: 0px 1px 2px rgba(60, 64, 67, 0.3), 0px 1px 3px 1px rgba(60, 64, 67, 0.15);\n",
              "      fill: #174EA6;\n",
              "    }\n",
              "\n",
              "    .colab-df-buttons div {\n",
              "      margin-bottom: 4px;\n",
              "    }\n",
              "\n",
              "    [theme=dark] .colab-df-convert {\n",
              "      background-color: #3B4455;\n",
              "      fill: #D2E3FC;\n",
              "    }\n",
              "\n",
              "    [theme=dark] .colab-df-convert:hover {\n",
              "      background-color: #434B5C;\n",
              "      box-shadow: 0px 1px 3px 1px rgba(0, 0, 0, 0.15);\n",
              "      filter: drop-shadow(0px 1px 2px rgba(0, 0, 0, 0.3));\n",
              "      fill: #FFFFFF;\n",
              "    }\n",
              "  </style>\n",
              "\n",
              "    <script>\n",
              "      const buttonEl =\n",
              "        document.querySelector('#df-de737c2f-68d9-4026-9051-9019c3887d62 button.colab-df-convert');\n",
              "      buttonEl.style.display =\n",
              "        google.colab.kernel.accessAllowed ? 'block' : 'none';\n",
              "\n",
              "      async function convertToInteractive(key) {\n",
              "        const element = document.querySelector('#df-de737c2f-68d9-4026-9051-9019c3887d62');\n",
              "        const dataTable =\n",
              "          await google.colab.kernel.invokeFunction('convertToInteractive',\n",
              "                                                    [key], {});\n",
              "        if (!dataTable) return;\n",
              "\n",
              "        const docLinkHtml = 'Like what you see? Visit the ' +\n",
              "          '<a target=\"_blank\" href=https://colab.research.google.com/notebooks/data_table.ipynb>data table notebook</a>'\n",
              "          + ' to learn more about interactive tables.';\n",
              "        element.innerHTML = '';\n",
              "        dataTable['output_type'] = 'display_data';\n",
              "        await google.colab.output.renderOutput(dataTable, element);\n",
              "        const docLink = document.createElement('div');\n",
              "        docLink.innerHTML = docLinkHtml;\n",
              "        element.appendChild(docLink);\n",
              "      }\n",
              "    </script>\n",
              "  </div>\n",
              "\n",
              "\n",
              "<div id=\"df-1c615304-f749-481b-a00d-3e09d7c0f485\">\n",
              "  <button class=\"colab-df-quickchart\" onclick=\"quickchart('df-1c615304-f749-481b-a00d-3e09d7c0f485')\"\n",
              "            title=\"Suggest charts\"\n",
              "            style=\"display:none;\">\n",
              "\n",
              "<svg xmlns=\"http://www.w3.org/2000/svg\" height=\"24px\"viewBox=\"0 0 24 24\"\n",
              "     width=\"24px\">\n",
              "    <g>\n",
              "        <path d=\"M19 3H5c-1.1 0-2 .9-2 2v14c0 1.1.9 2 2 2h14c1.1 0 2-.9 2-2V5c0-1.1-.9-2-2-2zM9 17H7v-7h2v7zm4 0h-2V7h2v10zm4 0h-2v-4h2v4z\"/>\n",
              "    </g>\n",
              "</svg>\n",
              "  </button>\n",
              "\n",
              "<style>\n",
              "  .colab-df-quickchart {\n",
              "      --bg-color: #E8F0FE;\n",
              "      --fill-color: #1967D2;\n",
              "      --hover-bg-color: #E2EBFA;\n",
              "      --hover-fill-color: #174EA6;\n",
              "      --disabled-fill-color: #AAA;\n",
              "      --disabled-bg-color: #DDD;\n",
              "  }\n",
              "\n",
              "  [theme=dark] .colab-df-quickchart {\n",
              "      --bg-color: #3B4455;\n",
              "      --fill-color: #D2E3FC;\n",
              "      --hover-bg-color: #434B5C;\n",
              "      --hover-fill-color: #FFFFFF;\n",
              "      --disabled-bg-color: #3B4455;\n",
              "      --disabled-fill-color: #666;\n",
              "  }\n",
              "\n",
              "  .colab-df-quickchart {\n",
              "    background-color: var(--bg-color);\n",
              "    border: none;\n",
              "    border-radius: 50%;\n",
              "    cursor: pointer;\n",
              "    display: none;\n",
              "    fill: var(--fill-color);\n",
              "    height: 32px;\n",
              "    padding: 0;\n",
              "    width: 32px;\n",
              "  }\n",
              "\n",
              "  .colab-df-quickchart:hover {\n",
              "    background-color: var(--hover-bg-color);\n",
              "    box-shadow: 0 1px 2px rgba(60, 64, 67, 0.3), 0 1px 3px 1px rgba(60, 64, 67, 0.15);\n",
              "    fill: var(--button-hover-fill-color);\n",
              "  }\n",
              "\n",
              "  .colab-df-quickchart-complete:disabled,\n",
              "  .colab-df-quickchart-complete:disabled:hover {\n",
              "    background-color: var(--disabled-bg-color);\n",
              "    fill: var(--disabled-fill-color);\n",
              "    box-shadow: none;\n",
              "  }\n",
              "\n",
              "  .colab-df-spinner {\n",
              "    border: 2px solid var(--fill-color);\n",
              "    border-color: transparent;\n",
              "    border-bottom-color: var(--fill-color);\n",
              "    animation:\n",
              "      spin 1s steps(1) infinite;\n",
              "  }\n",
              "\n",
              "  @keyframes spin {\n",
              "    0% {\n",
              "      border-color: transparent;\n",
              "      border-bottom-color: var(--fill-color);\n",
              "      border-left-color: var(--fill-color);\n",
              "    }\n",
              "    20% {\n",
              "      border-color: transparent;\n",
              "      border-left-color: var(--fill-color);\n",
              "      border-top-color: var(--fill-color);\n",
              "    }\n",
              "    30% {\n",
              "      border-color: transparent;\n",
              "      border-left-color: var(--fill-color);\n",
              "      border-top-color: var(--fill-color);\n",
              "      border-right-color: var(--fill-color);\n",
              "    }\n",
              "    40% {\n",
              "      border-color: transparent;\n",
              "      border-right-color: var(--fill-color);\n",
              "      border-top-color: var(--fill-color);\n",
              "    }\n",
              "    60% {\n",
              "      border-color: transparent;\n",
              "      border-right-color: var(--fill-color);\n",
              "    }\n",
              "    80% {\n",
              "      border-color: transparent;\n",
              "      border-right-color: var(--fill-color);\n",
              "      border-bottom-color: var(--fill-color);\n",
              "    }\n",
              "    90% {\n",
              "      border-color: transparent;\n",
              "      border-bottom-color: var(--fill-color);\n",
              "    }\n",
              "  }\n",
              "</style>\n",
              "\n",
              "  <script>\n",
              "    async function quickchart(key) {\n",
              "      const quickchartButtonEl =\n",
              "        document.querySelector('#' + key + ' button');\n",
              "      quickchartButtonEl.disabled = true;  // To prevent multiple clicks.\n",
              "      quickchartButtonEl.classList.add('colab-df-spinner');\n",
              "      try {\n",
              "        const charts = await google.colab.kernel.invokeFunction(\n",
              "            'suggestCharts', [key], {});\n",
              "      } catch (error) {\n",
              "        console.error('Error during call to suggestCharts:', error);\n",
              "      }\n",
              "      quickchartButtonEl.classList.remove('colab-df-spinner');\n",
              "      quickchartButtonEl.classList.add('colab-df-quickchart-complete');\n",
              "    }\n",
              "    (() => {\n",
              "      let quickchartButtonEl =\n",
              "        document.querySelector('#df-1c615304-f749-481b-a00d-3e09d7c0f485 button');\n",
              "      quickchartButtonEl.style.display =\n",
              "        google.colab.kernel.accessAllowed ? 'block' : 'none';\n",
              "    })();\n",
              "  </script>\n",
              "</div>\n",
              "\n",
              "    </div>\n",
              "  </div>\n"
            ],
            "application/vnd.google.colaboratory.intrinsic+json": {
              "type": "dataframe",
              "variable_name": "df"
            }
          },
          "metadata": {},
          "execution_count": 9
        }
      ]
    },
    {
      "cell_type": "markdown",
      "id": "8594709d",
      "metadata": {
        "id": "8594709d"
      },
      "source": [
        "### Data Distribution"
      ]
    },
    {
      "cell_type": "code",
      "source": [
        "df['Country'].value_counts()"
      ],
      "metadata": {
        "colab": {
          "base_uri": "https://localhost:8080/",
          "height": 490
        },
        "id": "69Nr16qML5li",
        "outputId": "53a7215d-089d-479c-dc32-82822bf9cae0"
      },
      "id": "69Nr16qML5li",
      "execution_count": 10,
      "outputs": [
        {
          "output_type": "execute_result",
          "data": {
            "text/plain": [
              "Country\n",
              "Turkiye            16\n",
              "Slovak Republic    16\n",
              "Latvia             16\n",
              "Angola             16\n",
              "Jamaica            16\n",
              "                   ..\n",
              "Kuwait             16\n",
              "Argentina          16\n",
              "Panama             16\n",
              "Oman               16\n",
              "Georgia            16\n",
              "Name: count, Length: 179, dtype: int64"
            ],
            "text/html": [
              "<div>\n",
              "<style scoped>\n",
              "    .dataframe tbody tr th:only-of-type {\n",
              "        vertical-align: middle;\n",
              "    }\n",
              "\n",
              "    .dataframe tbody tr th {\n",
              "        vertical-align: top;\n",
              "    }\n",
              "\n",
              "    .dataframe thead th {\n",
              "        text-align: right;\n",
              "    }\n",
              "</style>\n",
              "<table border=\"1\" class=\"dataframe\">\n",
              "  <thead>\n",
              "    <tr style=\"text-align: right;\">\n",
              "      <th></th>\n",
              "      <th>count</th>\n",
              "    </tr>\n",
              "    <tr>\n",
              "      <th>Country</th>\n",
              "      <th></th>\n",
              "    </tr>\n",
              "  </thead>\n",
              "  <tbody>\n",
              "    <tr>\n",
              "      <th>Turkiye</th>\n",
              "      <td>16</td>\n",
              "    </tr>\n",
              "    <tr>\n",
              "      <th>Slovak Republic</th>\n",
              "      <td>16</td>\n",
              "    </tr>\n",
              "    <tr>\n",
              "      <th>Latvia</th>\n",
              "      <td>16</td>\n",
              "    </tr>\n",
              "    <tr>\n",
              "      <th>Angola</th>\n",
              "      <td>16</td>\n",
              "    </tr>\n",
              "    <tr>\n",
              "      <th>Jamaica</th>\n",
              "      <td>16</td>\n",
              "    </tr>\n",
              "    <tr>\n",
              "      <th>...</th>\n",
              "      <td>...</td>\n",
              "    </tr>\n",
              "    <tr>\n",
              "      <th>Kuwait</th>\n",
              "      <td>16</td>\n",
              "    </tr>\n",
              "    <tr>\n",
              "      <th>Argentina</th>\n",
              "      <td>16</td>\n",
              "    </tr>\n",
              "    <tr>\n",
              "      <th>Panama</th>\n",
              "      <td>16</td>\n",
              "    </tr>\n",
              "    <tr>\n",
              "      <th>Oman</th>\n",
              "      <td>16</td>\n",
              "    </tr>\n",
              "    <tr>\n",
              "      <th>Georgia</th>\n",
              "      <td>16</td>\n",
              "    </tr>\n",
              "  </tbody>\n",
              "</table>\n",
              "<p>179 rows × 1 columns</p>\n",
              "</div><br><label><b>dtype:</b> int64</label>"
            ]
          },
          "metadata": {},
          "execution_count": 10
        }
      ]
    },
    {
      "cell_type": "code",
      "source": [
        "df['Region'].value_counts()"
      ],
      "metadata": {
        "colab": {
          "base_uri": "https://localhost:8080/",
          "height": 398
        },
        "id": "YOkb8nREqNcY",
        "outputId": "472af7ed-3b4b-4ee5-dc4f-cede008e6bbd"
      },
      "id": "YOkb8nREqNcY",
      "execution_count": 11,
      "outputs": [
        {
          "output_type": "execute_result",
          "data": {
            "text/plain": [
              "Region\n",
              "Africa                           816\n",
              "European Union                   432\n",
              "Asia                             432\n",
              "Central America and Caribbean    304\n",
              "Rest of Europe                   240\n",
              "Middle East                      224\n",
              "South America                    192\n",
              "Oceania                          176\n",
              "North America                     48\n",
              "Name: count, dtype: int64"
            ],
            "text/html": [
              "<div>\n",
              "<style scoped>\n",
              "    .dataframe tbody tr th:only-of-type {\n",
              "        vertical-align: middle;\n",
              "    }\n",
              "\n",
              "    .dataframe tbody tr th {\n",
              "        vertical-align: top;\n",
              "    }\n",
              "\n",
              "    .dataframe thead th {\n",
              "        text-align: right;\n",
              "    }\n",
              "</style>\n",
              "<table border=\"1\" class=\"dataframe\">\n",
              "  <thead>\n",
              "    <tr style=\"text-align: right;\">\n",
              "      <th></th>\n",
              "      <th>count</th>\n",
              "    </tr>\n",
              "    <tr>\n",
              "      <th>Region</th>\n",
              "      <th></th>\n",
              "    </tr>\n",
              "  </thead>\n",
              "  <tbody>\n",
              "    <tr>\n",
              "      <th>Africa</th>\n",
              "      <td>816</td>\n",
              "    </tr>\n",
              "    <tr>\n",
              "      <th>European Union</th>\n",
              "      <td>432</td>\n",
              "    </tr>\n",
              "    <tr>\n",
              "      <th>Asia</th>\n",
              "      <td>432</td>\n",
              "    </tr>\n",
              "    <tr>\n",
              "      <th>Central America and Caribbean</th>\n",
              "      <td>304</td>\n",
              "    </tr>\n",
              "    <tr>\n",
              "      <th>Rest of Europe</th>\n",
              "      <td>240</td>\n",
              "    </tr>\n",
              "    <tr>\n",
              "      <th>Middle East</th>\n",
              "      <td>224</td>\n",
              "    </tr>\n",
              "    <tr>\n",
              "      <th>South America</th>\n",
              "      <td>192</td>\n",
              "    </tr>\n",
              "    <tr>\n",
              "      <th>Oceania</th>\n",
              "      <td>176</td>\n",
              "    </tr>\n",
              "    <tr>\n",
              "      <th>North America</th>\n",
              "      <td>48</td>\n",
              "    </tr>\n",
              "  </tbody>\n",
              "</table>\n",
              "</div><br><label><b>dtype:</b> int64</label>"
            ]
          },
          "metadata": {},
          "execution_count": 11
        }
      ]
    },
    {
      "cell_type": "code",
      "execution_count": 12,
      "id": "8b7ca8f1",
      "metadata": {
        "id": "8b7ca8f1",
        "outputId": "8e472604-a52b-48a4-f0e2-dc7f181bbd5a",
        "colab": {
          "base_uri": "https://localhost:8080/",
          "height": 320
        }
      },
      "outputs": [
        {
          "output_type": "execute_result",
          "data": {
            "text/plain": [
              "              Year  Infant_deaths  Under_five_deaths  Adult_mortality  \\\n",
              "count  2864.000000    2864.000000        2864.000000      2864.000000   \n",
              "mean   2007.500000      30.363792          42.938268       192.251775   \n",
              "std       4.610577      27.538117          44.569974       114.910281   \n",
              "min    2000.000000       1.800000           2.300000        49.384000   \n",
              "25%    2003.750000       8.100000           9.675000       106.910250   \n",
              "50%    2007.500000      19.600000          23.100000       163.841500   \n",
              "75%    2011.250000      47.350000          66.000000       246.791375   \n",
              "max    2015.000000     138.100000         224.900000       719.360500   \n",
              "\n",
              "       Alcohol_consumption  Hepatitis_B      Measles          BMI  \\\n",
              "count          2864.000000  2864.000000  2864.000000  2864.000000   \n",
              "mean              4.820882    84.292598    77.344972    25.032926   \n",
              "std               3.981949    15.995511    18.659693     2.193905   \n",
              "min               0.000000    12.000000    10.000000    19.800000   \n",
              "25%               1.200000    78.000000    64.000000    23.200000   \n",
              "50%               4.020000    89.000000    83.000000    25.500000   \n",
              "75%               7.777500    96.000000    93.000000    26.400000   \n",
              "max              17.870000    99.000000    99.000000    32.100000   \n",
              "\n",
              "             Polio   Diphtheria  Incidents_HIV  GDP_per_capita  \\\n",
              "count  2864.000000  2864.000000    2864.000000     2864.000000   \n",
              "mean     86.499651    86.271648       0.894288    11540.924930   \n",
              "std      15.080365    15.534225       2.381389    16934.788931   \n",
              "min       8.000000    16.000000       0.010000      148.000000   \n",
              "25%      81.000000    81.000000       0.080000     1415.750000   \n",
              "50%      93.000000    93.000000       0.150000     4217.000000   \n",
              "75%      97.000000    97.000000       0.460000    12557.000000   \n",
              "max      99.000000    99.000000      21.680000   112418.000000   \n",
              "\n",
              "       Population_mln  Thinness_ten_nineteen_years  Thinness_five_nine_years  \\\n",
              "count     2864.000000                  2864.000000               2864.000000   \n",
              "mean        36.675915                     4.865852                  4.899825   \n",
              "std        136.485867                     4.438234                  4.525217   \n",
              "min          0.080000                     0.100000                  0.100000   \n",
              "25%          2.097500                     1.600000                  1.600000   \n",
              "50%          7.850000                     3.300000                  3.400000   \n",
              "75%         23.687500                     7.200000                  7.300000   \n",
              "max       1379.860000                    27.700000                 28.600000   \n",
              "\n",
              "         Schooling  Economy_status_Developed  Economy_status_Developing  \\\n",
              "count  2864.000000               2864.000000                2864.000000   \n",
              "mean      7.632123                  0.206704                   0.793296   \n",
              "std       3.171556                  0.405012                   0.405012   \n",
              "min       1.100000                  0.000000                   0.000000   \n",
              "25%       5.100000                  0.000000                   1.000000   \n",
              "50%       7.800000                  0.000000                   1.000000   \n",
              "75%      10.300000                  0.000000                   1.000000   \n",
              "max      14.100000                  1.000000                   1.000000   \n",
              "\n",
              "       Life_expectancy  \n",
              "count      2864.000000  \n",
              "mean         68.856075  \n",
              "std           9.405608  \n",
              "min          39.400000  \n",
              "25%          62.700000  \n",
              "50%          71.400000  \n",
              "75%          75.400000  \n",
              "max          83.800000  "
            ],
            "text/html": [
              "\n",
              "  <div id=\"df-af993857-eba8-4b39-bdfc-3ecbad0828e6\" class=\"colab-df-container\">\n",
              "    <div>\n",
              "<style scoped>\n",
              "    .dataframe tbody tr th:only-of-type {\n",
              "        vertical-align: middle;\n",
              "    }\n",
              "\n",
              "    .dataframe tbody tr th {\n",
              "        vertical-align: top;\n",
              "    }\n",
              "\n",
              "    .dataframe thead th {\n",
              "        text-align: right;\n",
              "    }\n",
              "</style>\n",
              "<table border=\"1\" class=\"dataframe\">\n",
              "  <thead>\n",
              "    <tr style=\"text-align: right;\">\n",
              "      <th></th>\n",
              "      <th>Year</th>\n",
              "      <th>Infant_deaths</th>\n",
              "      <th>Under_five_deaths</th>\n",
              "      <th>Adult_mortality</th>\n",
              "      <th>Alcohol_consumption</th>\n",
              "      <th>Hepatitis_B</th>\n",
              "      <th>Measles</th>\n",
              "      <th>BMI</th>\n",
              "      <th>Polio</th>\n",
              "      <th>Diphtheria</th>\n",
              "      <th>Incidents_HIV</th>\n",
              "      <th>GDP_per_capita</th>\n",
              "      <th>Population_mln</th>\n",
              "      <th>Thinness_ten_nineteen_years</th>\n",
              "      <th>Thinness_five_nine_years</th>\n",
              "      <th>Schooling</th>\n",
              "      <th>Economy_status_Developed</th>\n",
              "      <th>Economy_status_Developing</th>\n",
              "      <th>Life_expectancy</th>\n",
              "    </tr>\n",
              "  </thead>\n",
              "  <tbody>\n",
              "    <tr>\n",
              "      <th>count</th>\n",
              "      <td>2864.000000</td>\n",
              "      <td>2864.000000</td>\n",
              "      <td>2864.000000</td>\n",
              "      <td>2864.000000</td>\n",
              "      <td>2864.000000</td>\n",
              "      <td>2864.000000</td>\n",
              "      <td>2864.000000</td>\n",
              "      <td>2864.000000</td>\n",
              "      <td>2864.000000</td>\n",
              "      <td>2864.000000</td>\n",
              "      <td>2864.000000</td>\n",
              "      <td>2864.000000</td>\n",
              "      <td>2864.000000</td>\n",
              "      <td>2864.000000</td>\n",
              "      <td>2864.000000</td>\n",
              "      <td>2864.000000</td>\n",
              "      <td>2864.000000</td>\n",
              "      <td>2864.000000</td>\n",
              "      <td>2864.000000</td>\n",
              "    </tr>\n",
              "    <tr>\n",
              "      <th>mean</th>\n",
              "      <td>2007.500000</td>\n",
              "      <td>30.363792</td>\n",
              "      <td>42.938268</td>\n",
              "      <td>192.251775</td>\n",
              "      <td>4.820882</td>\n",
              "      <td>84.292598</td>\n",
              "      <td>77.344972</td>\n",
              "      <td>25.032926</td>\n",
              "      <td>86.499651</td>\n",
              "      <td>86.271648</td>\n",
              "      <td>0.894288</td>\n",
              "      <td>11540.924930</td>\n",
              "      <td>36.675915</td>\n",
              "      <td>4.865852</td>\n",
              "      <td>4.899825</td>\n",
              "      <td>7.632123</td>\n",
              "      <td>0.206704</td>\n",
              "      <td>0.793296</td>\n",
              "      <td>68.856075</td>\n",
              "    </tr>\n",
              "    <tr>\n",
              "      <th>std</th>\n",
              "      <td>4.610577</td>\n",
              "      <td>27.538117</td>\n",
              "      <td>44.569974</td>\n",
              "      <td>114.910281</td>\n",
              "      <td>3.981949</td>\n",
              "      <td>15.995511</td>\n",
              "      <td>18.659693</td>\n",
              "      <td>2.193905</td>\n",
              "      <td>15.080365</td>\n",
              "      <td>15.534225</td>\n",
              "      <td>2.381389</td>\n",
              "      <td>16934.788931</td>\n",
              "      <td>136.485867</td>\n",
              "      <td>4.438234</td>\n",
              "      <td>4.525217</td>\n",
              "      <td>3.171556</td>\n",
              "      <td>0.405012</td>\n",
              "      <td>0.405012</td>\n",
              "      <td>9.405608</td>\n",
              "    </tr>\n",
              "    <tr>\n",
              "      <th>min</th>\n",
              "      <td>2000.000000</td>\n",
              "      <td>1.800000</td>\n",
              "      <td>2.300000</td>\n",
              "      <td>49.384000</td>\n",
              "      <td>0.000000</td>\n",
              "      <td>12.000000</td>\n",
              "      <td>10.000000</td>\n",
              "      <td>19.800000</td>\n",
              "      <td>8.000000</td>\n",
              "      <td>16.000000</td>\n",
              "      <td>0.010000</td>\n",
              "      <td>148.000000</td>\n",
              "      <td>0.080000</td>\n",
              "      <td>0.100000</td>\n",
              "      <td>0.100000</td>\n",
              "      <td>1.100000</td>\n",
              "      <td>0.000000</td>\n",
              "      <td>0.000000</td>\n",
              "      <td>39.400000</td>\n",
              "    </tr>\n",
              "    <tr>\n",
              "      <th>25%</th>\n",
              "      <td>2003.750000</td>\n",
              "      <td>8.100000</td>\n",
              "      <td>9.675000</td>\n",
              "      <td>106.910250</td>\n",
              "      <td>1.200000</td>\n",
              "      <td>78.000000</td>\n",
              "      <td>64.000000</td>\n",
              "      <td>23.200000</td>\n",
              "      <td>81.000000</td>\n",
              "      <td>81.000000</td>\n",
              "      <td>0.080000</td>\n",
              "      <td>1415.750000</td>\n",
              "      <td>2.097500</td>\n",
              "      <td>1.600000</td>\n",
              "      <td>1.600000</td>\n",
              "      <td>5.100000</td>\n",
              "      <td>0.000000</td>\n",
              "      <td>1.000000</td>\n",
              "      <td>62.700000</td>\n",
              "    </tr>\n",
              "    <tr>\n",
              "      <th>50%</th>\n",
              "      <td>2007.500000</td>\n",
              "      <td>19.600000</td>\n",
              "      <td>23.100000</td>\n",
              "      <td>163.841500</td>\n",
              "      <td>4.020000</td>\n",
              "      <td>89.000000</td>\n",
              "      <td>83.000000</td>\n",
              "      <td>25.500000</td>\n",
              "      <td>93.000000</td>\n",
              "      <td>93.000000</td>\n",
              "      <td>0.150000</td>\n",
              "      <td>4217.000000</td>\n",
              "      <td>7.850000</td>\n",
              "      <td>3.300000</td>\n",
              "      <td>3.400000</td>\n",
              "      <td>7.800000</td>\n",
              "      <td>0.000000</td>\n",
              "      <td>1.000000</td>\n",
              "      <td>71.400000</td>\n",
              "    </tr>\n",
              "    <tr>\n",
              "      <th>75%</th>\n",
              "      <td>2011.250000</td>\n",
              "      <td>47.350000</td>\n",
              "      <td>66.000000</td>\n",
              "      <td>246.791375</td>\n",
              "      <td>7.777500</td>\n",
              "      <td>96.000000</td>\n",
              "      <td>93.000000</td>\n",
              "      <td>26.400000</td>\n",
              "      <td>97.000000</td>\n",
              "      <td>97.000000</td>\n",
              "      <td>0.460000</td>\n",
              "      <td>12557.000000</td>\n",
              "      <td>23.687500</td>\n",
              "      <td>7.200000</td>\n",
              "      <td>7.300000</td>\n",
              "      <td>10.300000</td>\n",
              "      <td>0.000000</td>\n",
              "      <td>1.000000</td>\n",
              "      <td>75.400000</td>\n",
              "    </tr>\n",
              "    <tr>\n",
              "      <th>max</th>\n",
              "      <td>2015.000000</td>\n",
              "      <td>138.100000</td>\n",
              "      <td>224.900000</td>\n",
              "      <td>719.360500</td>\n",
              "      <td>17.870000</td>\n",
              "      <td>99.000000</td>\n",
              "      <td>99.000000</td>\n",
              "      <td>32.100000</td>\n",
              "      <td>99.000000</td>\n",
              "      <td>99.000000</td>\n",
              "      <td>21.680000</td>\n",
              "      <td>112418.000000</td>\n",
              "      <td>1379.860000</td>\n",
              "      <td>27.700000</td>\n",
              "      <td>28.600000</td>\n",
              "      <td>14.100000</td>\n",
              "      <td>1.000000</td>\n",
              "      <td>1.000000</td>\n",
              "      <td>83.800000</td>\n",
              "    </tr>\n",
              "  </tbody>\n",
              "</table>\n",
              "</div>\n",
              "    <div class=\"colab-df-buttons\">\n",
              "\n",
              "  <div class=\"colab-df-container\">\n",
              "    <button class=\"colab-df-convert\" onclick=\"convertToInteractive('df-af993857-eba8-4b39-bdfc-3ecbad0828e6')\"\n",
              "            title=\"Convert this dataframe to an interactive table.\"\n",
              "            style=\"display:none;\">\n",
              "\n",
              "  <svg xmlns=\"http://www.w3.org/2000/svg\" height=\"24px\" viewBox=\"0 -960 960 960\">\n",
              "    <path d=\"M120-120v-720h720v720H120Zm60-500h600v-160H180v160Zm220 220h160v-160H400v160Zm0 220h160v-160H400v160ZM180-400h160v-160H180v160Zm440 0h160v-160H620v160ZM180-180h160v-160H180v160Zm440 0h160v-160H620v160Z\"/>\n",
              "  </svg>\n",
              "    </button>\n",
              "\n",
              "  <style>\n",
              "    .colab-df-container {\n",
              "      display:flex;\n",
              "      gap: 12px;\n",
              "    }\n",
              "\n",
              "    .colab-df-convert {\n",
              "      background-color: #E8F0FE;\n",
              "      border: none;\n",
              "      border-radius: 50%;\n",
              "      cursor: pointer;\n",
              "      display: none;\n",
              "      fill: #1967D2;\n",
              "      height: 32px;\n",
              "      padding: 0 0 0 0;\n",
              "      width: 32px;\n",
              "    }\n",
              "\n",
              "    .colab-df-convert:hover {\n",
              "      background-color: #E2EBFA;\n",
              "      box-shadow: 0px 1px 2px rgba(60, 64, 67, 0.3), 0px 1px 3px 1px rgba(60, 64, 67, 0.15);\n",
              "      fill: #174EA6;\n",
              "    }\n",
              "\n",
              "    .colab-df-buttons div {\n",
              "      margin-bottom: 4px;\n",
              "    }\n",
              "\n",
              "    [theme=dark] .colab-df-convert {\n",
              "      background-color: #3B4455;\n",
              "      fill: #D2E3FC;\n",
              "    }\n",
              "\n",
              "    [theme=dark] .colab-df-convert:hover {\n",
              "      background-color: #434B5C;\n",
              "      box-shadow: 0px 1px 3px 1px rgba(0, 0, 0, 0.15);\n",
              "      filter: drop-shadow(0px 1px 2px rgba(0, 0, 0, 0.3));\n",
              "      fill: #FFFFFF;\n",
              "    }\n",
              "  </style>\n",
              "\n",
              "    <script>\n",
              "      const buttonEl =\n",
              "        document.querySelector('#df-af993857-eba8-4b39-bdfc-3ecbad0828e6 button.colab-df-convert');\n",
              "      buttonEl.style.display =\n",
              "        google.colab.kernel.accessAllowed ? 'block' : 'none';\n",
              "\n",
              "      async function convertToInteractive(key) {\n",
              "        const element = document.querySelector('#df-af993857-eba8-4b39-bdfc-3ecbad0828e6');\n",
              "        const dataTable =\n",
              "          await google.colab.kernel.invokeFunction('convertToInteractive',\n",
              "                                                    [key], {});\n",
              "        if (!dataTable) return;\n",
              "\n",
              "        const docLinkHtml = 'Like what you see? Visit the ' +\n",
              "          '<a target=\"_blank\" href=https://colab.research.google.com/notebooks/data_table.ipynb>data table notebook</a>'\n",
              "          + ' to learn more about interactive tables.';\n",
              "        element.innerHTML = '';\n",
              "        dataTable['output_type'] = 'display_data';\n",
              "        await google.colab.output.renderOutput(dataTable, element);\n",
              "        const docLink = document.createElement('div');\n",
              "        docLink.innerHTML = docLinkHtml;\n",
              "        element.appendChild(docLink);\n",
              "      }\n",
              "    </script>\n",
              "  </div>\n",
              "\n",
              "\n",
              "<div id=\"df-82725fd9-24dc-48b5-b452-fed784189794\">\n",
              "  <button class=\"colab-df-quickchart\" onclick=\"quickchart('df-82725fd9-24dc-48b5-b452-fed784189794')\"\n",
              "            title=\"Suggest charts\"\n",
              "            style=\"display:none;\">\n",
              "\n",
              "<svg xmlns=\"http://www.w3.org/2000/svg\" height=\"24px\"viewBox=\"0 0 24 24\"\n",
              "     width=\"24px\">\n",
              "    <g>\n",
              "        <path d=\"M19 3H5c-1.1 0-2 .9-2 2v14c0 1.1.9 2 2 2h14c1.1 0 2-.9 2-2V5c0-1.1-.9-2-2-2zM9 17H7v-7h2v7zm4 0h-2V7h2v10zm4 0h-2v-4h2v4z\"/>\n",
              "    </g>\n",
              "</svg>\n",
              "  </button>\n",
              "\n",
              "<style>\n",
              "  .colab-df-quickchart {\n",
              "      --bg-color: #E8F0FE;\n",
              "      --fill-color: #1967D2;\n",
              "      --hover-bg-color: #E2EBFA;\n",
              "      --hover-fill-color: #174EA6;\n",
              "      --disabled-fill-color: #AAA;\n",
              "      --disabled-bg-color: #DDD;\n",
              "  }\n",
              "\n",
              "  [theme=dark] .colab-df-quickchart {\n",
              "      --bg-color: #3B4455;\n",
              "      --fill-color: #D2E3FC;\n",
              "      --hover-bg-color: #434B5C;\n",
              "      --hover-fill-color: #FFFFFF;\n",
              "      --disabled-bg-color: #3B4455;\n",
              "      --disabled-fill-color: #666;\n",
              "  }\n",
              "\n",
              "  .colab-df-quickchart {\n",
              "    background-color: var(--bg-color);\n",
              "    border: none;\n",
              "    border-radius: 50%;\n",
              "    cursor: pointer;\n",
              "    display: none;\n",
              "    fill: var(--fill-color);\n",
              "    height: 32px;\n",
              "    padding: 0;\n",
              "    width: 32px;\n",
              "  }\n",
              "\n",
              "  .colab-df-quickchart:hover {\n",
              "    background-color: var(--hover-bg-color);\n",
              "    box-shadow: 0 1px 2px rgba(60, 64, 67, 0.3), 0 1px 3px 1px rgba(60, 64, 67, 0.15);\n",
              "    fill: var(--button-hover-fill-color);\n",
              "  }\n",
              "\n",
              "  .colab-df-quickchart-complete:disabled,\n",
              "  .colab-df-quickchart-complete:disabled:hover {\n",
              "    background-color: var(--disabled-bg-color);\n",
              "    fill: var(--disabled-fill-color);\n",
              "    box-shadow: none;\n",
              "  }\n",
              "\n",
              "  .colab-df-spinner {\n",
              "    border: 2px solid var(--fill-color);\n",
              "    border-color: transparent;\n",
              "    border-bottom-color: var(--fill-color);\n",
              "    animation:\n",
              "      spin 1s steps(1) infinite;\n",
              "  }\n",
              "\n",
              "  @keyframes spin {\n",
              "    0% {\n",
              "      border-color: transparent;\n",
              "      border-bottom-color: var(--fill-color);\n",
              "      border-left-color: var(--fill-color);\n",
              "    }\n",
              "    20% {\n",
              "      border-color: transparent;\n",
              "      border-left-color: var(--fill-color);\n",
              "      border-top-color: var(--fill-color);\n",
              "    }\n",
              "    30% {\n",
              "      border-color: transparent;\n",
              "      border-left-color: var(--fill-color);\n",
              "      border-top-color: var(--fill-color);\n",
              "      border-right-color: var(--fill-color);\n",
              "    }\n",
              "    40% {\n",
              "      border-color: transparent;\n",
              "      border-right-color: var(--fill-color);\n",
              "      border-top-color: var(--fill-color);\n",
              "    }\n",
              "    60% {\n",
              "      border-color: transparent;\n",
              "      border-right-color: var(--fill-color);\n",
              "    }\n",
              "    80% {\n",
              "      border-color: transparent;\n",
              "      border-right-color: var(--fill-color);\n",
              "      border-bottom-color: var(--fill-color);\n",
              "    }\n",
              "    90% {\n",
              "      border-color: transparent;\n",
              "      border-bottom-color: var(--fill-color);\n",
              "    }\n",
              "  }\n",
              "</style>\n",
              "\n",
              "  <script>\n",
              "    async function quickchart(key) {\n",
              "      const quickchartButtonEl =\n",
              "        document.querySelector('#' + key + ' button');\n",
              "      quickchartButtonEl.disabled = true;  // To prevent multiple clicks.\n",
              "      quickchartButtonEl.classList.add('colab-df-spinner');\n",
              "      try {\n",
              "        const charts = await google.colab.kernel.invokeFunction(\n",
              "            'suggestCharts', [key], {});\n",
              "      } catch (error) {\n",
              "        console.error('Error during call to suggestCharts:', error);\n",
              "      }\n",
              "      quickchartButtonEl.classList.remove('colab-df-spinner');\n",
              "      quickchartButtonEl.classList.add('colab-df-quickchart-complete');\n",
              "    }\n",
              "    (() => {\n",
              "      let quickchartButtonEl =\n",
              "        document.querySelector('#df-82725fd9-24dc-48b5-b452-fed784189794 button');\n",
              "      quickchartButtonEl.style.display =\n",
              "        google.colab.kernel.accessAllowed ? 'block' : 'none';\n",
              "    })();\n",
              "  </script>\n",
              "</div>\n",
              "\n",
              "    </div>\n",
              "  </div>\n"
            ],
            "application/vnd.google.colaboratory.intrinsic+json": {
              "type": "dataframe",
              "summary": "{\n  \"name\": \"df_num\",\n  \"rows\": 8,\n  \"fields\": [\n    {\n      \"column\": \"Year\",\n      \"properties\": {\n        \"dtype\": \"number\",\n        \"std\": 808.969611499559,\n        \"min\": 4.610577218127591,\n        \"max\": 2864.0,\n        \"num_unique_values\": 7,\n        \"samples\": [\n          2864.0,\n          2007.5,\n          2011.25\n        ],\n        \"semantic_type\": \"\",\n        \"description\": \"\"\n      }\n    },\n    {\n      \"column\": \"Infant_deaths\",\n      \"properties\": {\n        \"dtype\": \"number\",\n        \"std\": 999.7115986455022,\n        \"min\": 1.8,\n        \"max\": 2864.0,\n        \"num_unique_values\": 8,\n        \"samples\": [\n          30.36379189944134,\n          19.6,\n          2864.0\n        ],\n        \"semantic_type\": \"\",\n        \"description\": \"\"\n      }\n    },\n    {\n      \"column\": \"Under_five_deaths\",\n      \"properties\": {\n        \"dtype\": \"number\",\n        \"std\": 994.2087768039033,\n        \"min\": 2.3,\n        \"max\": 2864.0,\n        \"num_unique_values\": 8,\n        \"samples\": [\n          42.938268156424584,\n          23.1,\n          2864.0\n        ],\n        \"semantic_type\": \"\",\n        \"description\": \"\"\n      }\n    },\n    {\n      \"column\": \"Adult_mortality\",\n      \"properties\": {\n        \"dtype\": \"number\",\n        \"std\": 955.2974136606106,\n        \"min\": 49.384,\n        \"max\": 2864.0,\n        \"num_unique_values\": 8,\n        \"samples\": [\n          192.2517753142458,\n          163.8415,\n          2864.0\n        ],\n        \"semantic_type\": \"\",\n        \"description\": \"\"\n      }\n    },\n    {\n      \"column\": \"Alcohol_consumption\",\n      \"properties\": {\n        \"dtype\": \"number\",\n        \"std\": 1010.5882198244552,\n        \"min\": 0.0,\n        \"max\": 2864.0,\n        \"num_unique_values\": 8,\n        \"samples\": [\n          4.82088156424581,\n          4.02,\n          2864.0\n        ],\n        \"semantic_type\": \"\",\n        \"description\": \"\"\n      }\n    },\n    {\n      \"column\": \"Hepatitis_B\",\n      \"properties\": {\n        \"dtype\": \"number\",\n        \"std\": 989.2278490379324,\n        \"min\": 12.0,\n        \"max\": 2864.0,\n        \"num_unique_values\": 8,\n        \"samples\": [\n          84.29259776536313,\n          89.0,\n          2864.0\n        ],\n        \"semantic_type\": \"\",\n        \"description\": \"\"\n      }\n    },\n    {\n      \"column\": \"Measles\",\n      \"properties\": {\n        \"dtype\": \"number\",\n        \"std\": 990.6471510305319,\n        \"min\": 10.0,\n        \"max\": 2864.0,\n        \"num_unique_values\": 8,\n        \"samples\": [\n          77.34497206703911,\n          83.0,\n          2864.0\n        ],\n        \"semantic_type\": \"\",\n        \"description\": \"\"\n      }\n    },\n    {\n      \"column\": \"BMI\",\n      \"properties\": {\n        \"dtype\": \"number\",\n        \"std\": 1004.8257638785085,\n        \"min\": 2.1939048930648504,\n        \"max\": 2864.0,\n        \"num_unique_values\": 8,\n        \"samples\": [\n          25.032925977653633,\n          25.5,\n          2864.0\n        ],\n        \"semantic_type\": \"\",\n        \"description\": \"\"\n      }\n    },\n    {\n      \"column\": \"Polio\",\n      \"properties\": {\n        \"dtype\": \"number\",\n        \"std\": 989.0290109927525,\n        \"min\": 8.0,\n        \"max\": 2864.0,\n        \"num_unique_values\": 8,\n        \"samples\": [\n          86.49965083798882,\n          93.0,\n          2864.0\n        ],\n        \"semantic_type\": \"\",\n        \"description\": \"\"\n      }\n    },\n    {\n      \"column\": \"Diphtheria\",\n      \"properties\": {\n        \"dtype\": \"number\",\n        \"std\": 988.5437184664576,\n        \"min\": 15.534224806848686,\n        \"max\": 2864.0,\n        \"num_unique_values\": 8,\n        \"samples\": [\n          86.27164804469274,\n          93.0,\n          2864.0\n        ],\n        \"semantic_type\": \"\",\n        \"description\": \"\"\n      }\n    },\n    {\n      \"column\": \"Incidents_HIV\",\n      \"properties\": {\n        \"dtype\": \"number\",\n        \"std\": 1011.3081339235594,\n        \"min\": 0.01,\n        \"max\": 2864.0,\n        \"num_unique_values\": 8,\n        \"samples\": [\n          0.8942877094972066,\n          0.15,\n          2864.0\n        ],\n        \"semantic_type\": \"\",\n        \"description\": \"\"\n      }\n    },\n    {\n      \"column\": \"GDP_per_capita\",\n      \"properties\": {\n        \"dtype\": \"number\",\n        \"std\": 37719.09218892828,\n        \"min\": 148.0,\n        \"max\": 112418.0,\n        \"num_unique_values\": 8,\n        \"samples\": [\n          11540.924930167597,\n          4217.0,\n          2864.0\n        ],\n        \"semantic_type\": \"\",\n        \"description\": \"\"\n      }\n    },\n    {\n      \"column\": \"Population_mln\",\n      \"properties\": {\n        \"dtype\": \"number\",\n        \"std\": 1045.464901556287,\n        \"min\": 0.08,\n        \"max\": 2864.0,\n        \"num_unique_values\": 8,\n        \"samples\": [\n          36.67591480446927,\n          7.85,\n          2864.0\n        ],\n        \"semantic_type\": \"\",\n        \"description\": \"\"\n      }\n    },\n    {\n      \"column\": \"Thinness_ten_nineteen_years\",\n      \"properties\": {\n        \"dtype\": \"number\",\n        \"std\": 1010.1292144253102,\n        \"min\": 0.1,\n        \"max\": 2864.0,\n        \"num_unique_values\": 8,\n        \"samples\": [\n          4.865851955307262,\n          3.3,\n          2864.0\n        ],\n        \"semantic_type\": \"\",\n        \"description\": \"\"\n      }\n    },\n    {\n      \"column\": \"Thinness_five_nine_years\",\n      \"properties\": {\n        \"dtype\": \"number\",\n        \"std\": 1010.0701319420717,\n        \"min\": 0.1,\n        \"max\": 2864.0,\n        \"num_unique_values\": 8,\n        \"samples\": [\n          4.899825418994413,\n          3.4,\n          2864.0\n        ],\n        \"semantic_type\": \"\",\n        \"description\": \"\"\n      }\n    },\n    {\n      \"column\": \"Schooling\",\n      \"properties\": {\n        \"dtype\": \"number\",\n        \"std\": 1010.0999108277506,\n        \"min\": 1.1,\n        \"max\": 2864.0,\n        \"num_unique_values\": 8,\n        \"samples\": [\n          7.632122905027933,\n          7.8,\n          2864.0\n        ],\n        \"semantic_type\": \"\",\n        \"description\": \"\"\n      }\n    },\n    {\n      \"column\": \"Economy_status_Developed\",\n      \"properties\": {\n        \"dtype\": \"number\",\n        \"std\": 1012.4955656694699,\n        \"min\": 0.0,\n        \"max\": 2864.0,\n        \"num_unique_values\": 5,\n        \"samples\": [\n          0.20670391061452514,\n          1.0,\n          0.4050119487490112\n        ],\n        \"semantic_type\": \"\",\n        \"description\": \"\"\n      }\n    },\n    {\n      \"column\": \"Economy_status_Developing\",\n      \"properties\": {\n        \"dtype\": \"number\",\n        \"std\": 1012.3144222873818,\n        \"min\": 0.0,\n        \"max\": 2864.0,\n        \"num_unique_values\": 5,\n        \"samples\": [\n          0.7932960893854749,\n          1.0,\n          0.4050119487490112\n        ],\n        \"semantic_type\": \"\",\n        \"description\": \"\"\n      }\n    },\n    {\n      \"column\": \"Life_expectancy\",\n      \"properties\": {\n        \"dtype\": \"number\",\n        \"std\": 992.1076468916,\n        \"min\": 9.405607944521496,\n        \"max\": 2864.0,\n        \"num_unique_values\": 8,\n        \"samples\": [\n          68.85607541899441,\n          71.4,\n          2864.0\n        ],\n        \"semantic_type\": \"\",\n        \"description\": \"\"\n      }\n    }\n  ]\n}"
            }
          },
          "metadata": {},
          "execution_count": 12
        }
      ],
      "source": [
        "df_num.describe()"
      ]
    },
    {
      "cell_type": "code",
      "execution_count": 34,
      "id": "a4a6609f",
      "metadata": {
        "id": "a4a6609f",
        "outputId": "d5b77f27-7107-4ba7-b679-59214beeb13f",
        "colab": {
          "base_uri": "https://localhost:8080/",
          "height": 430
        }
      },
      "outputs": [
        {
          "output_type": "display_data",
          "data": {
            "text/plain": [
              "<Figure size 640x480 with 1 Axes>"
            ],
            "image/png": "[encoded data removed]"
          },
          "metadata": {}
        }
      ],
      "source": [
        "boxplot = df.boxplot(column='Infant_deaths')"
      ]
    },
    {
      "cell_type": "code",
      "execution_count": null,
      "id": "dde96227",
      "metadata": {
        "id": "dde96227",
        "outputId": "55d127e2-8dcc-4d4a-c893-41c70db53683",
        "colab": {
          "base_uri": "https://localhost:8080/",
          "height": 430
        }
      },
      "outputs": [
        {
          "output_type": "display_data",
          "data": {
            "text/plain": [
              "<Figure size 640x480 with 1 Axes>"
            ],
            "image/png": "[encoded data removed]"
          },
          "metadata": {}
        }
      ],
      "source": [
        "boxplot = df.boxplot(column='Under_five_deaths')"
      ]
    },
    {
      "cell_type": "code",
      "execution_count": null,
      "id": "d6038d32",
      "metadata": {
        "id": "d6038d32",
        "outputId": "0606aa02-78eb-4490-d3fc-cfaa1806f159",
        "colab": {
          "base_uri": "https://localhost:8080/",
          "height": 430
        }
      },
      "outputs": [
        {
          "output_type": "display_data",
          "data": {
            "text/plain": [
              "<Figure size 640x480 with 1 Axes>"
            ],
            "image/png": "[encoded data removed]"
          },
          "metadata": {}
        }
      ],
      "source": [
        "boxplot = df.boxplot(column='Adult_mortality')"
      ]
    },
    {
      "cell_type": "code",
      "execution_count": null,
      "id": "654afb1c",
      "metadata": {
        "id": "654afb1c",
        "outputId": "994a10fe-3fce-4189-f37a-f788145fc426",
        "colab": {
          "base_uri": "https://localhost:8080/",
          "height": 430
        }
      },
      "outputs": [
        {
          "output_type": "display_data",
          "data": {
            "text/plain": [
              "<Figure size 640x480 with 1 Axes>"
            ],
            "image/png": "[encoded data removed]"
          },
          "metadata": {}
        }
      ],
      "source": [
        "boxplot = df.boxplot(column='Alcohol_consumption')"
      ]
    },
    {
      "cell_type": "code",
      "execution_count": null,
      "id": "14364f14",
      "metadata": {
        "id": "14364f14",
        "outputId": "886131f8-af97-400a-c8ac-cd0c8c95536a",
        "colab": {
          "base_uri": "https://localhost:8080/",
          "height": 430
        }
      },
      "outputs": [
        {
          "output_type": "display_data",
          "data": {
            "text/plain": [
              "<Figure size 640x480 with 1 Axes>"
            ],
            "image/png": "[encoded data removed]"
          },
          "metadata": {}
        }
      ],
      "source": [
        "boxplot = df.boxplot(column='Hepatitis_B')"
      ]
    },
    {
      "cell_type": "code",
      "execution_count": null,
      "id": "ef4498bb",
      "metadata": {
        "id": "ef4498bb",
        "outputId": "e0dc7e9a-199e-45e9-e09c-e8db644c2aeb",
        "colab": {
          "base_uri": "https://localhost:8080/",
          "height": 430
        }
      },
      "outputs": [
        {
          "output_type": "display_data",
          "data": {
            "text/plain": [
              "<Figure size 640x480 with 1 Axes>"
            ],
            "image/png": "[encoded data removed]"
          },
          "metadata": {}
        }
      ],
      "source": [
        "boxplot = df.boxplot(column='Measles')"
      ]
    },
    {
      "cell_type": "code",
      "execution_count": null,
      "id": "2b0daaa1",
      "metadata": {
        "id": "2b0daaa1",
        "outputId": "f3eabfe4-c5ac-4fb4-c6da-990a7b059d20",
        "colab": {
          "base_uri": "https://localhost:8080/",
          "height": 430
        }
      },
      "outputs": [
        {
          "output_type": "display_data",
          "data": {
            "text/plain": [
              "<Figure size 640x480 with 1 Axes>"
            ],
            "image/png": "[encoded data removed]"
          },
          "metadata": {}
        }
      ],
      "source": [
        "boxplot = df.boxplot(column='BMI')"
      ]
    },
    {
      "cell_type": "code",
      "execution_count": null,
      "id": "08048cf3",
      "metadata": {
        "id": "08048cf3",
        "outputId": "d3b0b24c-fc73-4d4b-e683-c505e128d41a",
        "colab": {
          "base_uri": "https://localhost:8080/",
          "height": 430
        }
      },
      "outputs": [
        {
          "output_type": "display_data",
          "data": {
            "text/plain": [
              "<Figure size 640x480 with 1 Axes>"
            ],
            "image/png": "[encoded data removed]"
          },
          "metadata": {}
        }
      ],
      "source": [
        "boxplot = df.boxplot(column='Polio')"
      ]
    },
    {
      "cell_type": "code",
      "execution_count": null,
      "id": "9402c517",
      "metadata": {
        "id": "9402c517",
        "outputId": "69afb4f4-8ef0-4f06-d1eb-f9919c695f2f",
        "colab": {
          "base_uri": "https://localhost:8080/",
          "height": 430
        }
      },
      "outputs": [
        {
          "output_type": "display_data",
          "data": {
            "text/plain": [
              "<Figure size 640x480 with 1 Axes>"
            ],
            "image/png": "[encoded data removed]"
          },
          "metadata": {}
        }
      ],
      "source": [
        "boxplot = df.boxplot(column='Diphtheria')"
      ]
    },
    {
      "cell_type": "code",
      "execution_count": null,
      "id": "f35f425d",
      "metadata": {
        "id": "f35f425d",
        "outputId": "d78b7358-2d60-4926-e97b-89f4a5513644",
        "colab": {
          "base_uri": "https://localhost:8080/",
          "height": 430
        }
      },
      "outputs": [
        {
          "output_type": "display_data",
          "data": {
            "text/plain": [
              "<Figure size 640x480 with 1 Axes>"
            ],
            "image/png": "[encoded data removed]"
          },
          "metadata": {}
        }
      ],
      "source": [
        "boxplot = df.boxplot(column='Incidents_HIV')"
      ]
    },
    {
      "cell_type": "code",
      "execution_count": null,
      "id": "1b44092c",
      "metadata": {
        "id": "1b44092c",
        "outputId": "2ec14c9a-4206-489c-d534-766efaf43b55",
        "colab": {
          "base_uri": "https://localhost:8080/",
          "height": 430
        }
      },
      "outputs": [
        {
          "output_type": "display_data",
          "data": {
            "text/plain": [
              "<Figure size 640x480 with 1 Axes>"
            ],
            "image/png": "[encoded data removed]"
          },
          "metadata": {}
        }
      ],
      "source": [
        "boxplot = df.boxplot(column='GDP_per_capita')"
      ]
    },
    {
      "cell_type": "code",
      "execution_count": null,
      "id": "a57e53c9",
      "metadata": {
        "id": "a57e53c9",
        "outputId": "d6dc004f-4e28-47c7-f71c-f389da695a38",
        "colab": {
          "base_uri": "https://localhost:8080/",
          "height": 430
        }
      },
      "outputs": [
        {
          "output_type": "display_data",
          "data": {
            "text/plain": [
              "<Figure size 640x480 with 1 Axes>"
            ],
            "image/png": "[encoded data removed]"
          },
          "metadata": {}
        }
      ],
      "source": [
        "boxplot = df.boxplot(column='Population_mln')"
      ]
    },
    {
      "cell_type": "code",
      "execution_count": null,
      "id": "3a83018a",
      "metadata": {
        "id": "3a83018a",
        "outputId": "beb8e40e-caba-42cc-cc03-8335d3af3561",
        "colab": {
          "base_uri": "https://localhost:8080/",
          "height": 430
        }
      },
      "outputs": [
        {
          "output_type": "display_data",
          "data": {
            "text/plain": [
              "<Figure size 640x480 with 1 Axes>"
            ],
            "image/png": "[encoded data removed]"
          },
          "metadata": {}
        }
      ],
      "source": [
        "boxplot = df.boxplot(column='Thinness_ten_nineteen_years')"
      ]
    },
    {
      "cell_type": "code",
      "execution_count": null,
      "id": "f0f10fdf",
      "metadata": {
        "id": "f0f10fdf",
        "outputId": "538a7112-fb08-4097-c002-b15de83eebd9",
        "colab": {
          "base_uri": "https://localhost:8080/",
          "height": 435
        }
      },
      "outputs": [
        {
          "output_type": "display_data",
          "data": {
            "text/plain": [
              "<Figure size 640x480 with 1 Axes>"
            ],
            "image/png": "[encoded data removed]"
          },
          "metadata": {}
        }
      ],
      "source": [
        "boxplot = df.boxplot(column='Thinness_five_nine_years')"
      ]
    },
    {
      "cell_type": "code",
      "execution_count": null,
      "id": "753d7514",
      "metadata": {
        "id": "753d7514",
        "outputId": "8eca17d4-4bef-4671-a4cc-58cd6eea3849",
        "colab": {
          "base_uri": "https://localhost:8080/",
          "height": 430
        }
      },
      "outputs": [
        {
          "output_type": "display_data",
          "data": {
            "text/plain": [
              "<Figure size 640x480 with 1 Axes>"
            ],
            "image/png": "[encoded data removed]"
          },
          "metadata": {}
        }
      ],
      "source": [
        "boxplot = df.boxplot(column='Schooling')"
      ]
    },
    {
      "cell_type": "markdown",
      "source": [
        "### Splitting Data"
      ],
      "metadata": {
        "id": "uUOM6HuVCgbz"
      },
      "id": "uUOM6HuVCgbz"
    },
    {
      "cell_type": "markdown",
      "source": [
        "The dataset is splitted into 80% training data and 20% testing data."
      ],
      "metadata": {
        "id": "-I-t_YCJVrkU"
      },
      "id": "-I-t_YCJVrkU"
    },
    {
      "cell_type": "code",
      "source": [
        "input_df=df.drop('Life_expectancy',axis=1)\n",
        "output_df=df['Life_expectancy']"
      ],
      "metadata": {
        "id": "H40PUfPPCoEZ"
      },
      "id": "H40PUfPPCoEZ",
      "execution_count": 13,
      "outputs": []
    },
    {
      "cell_type": "markdown",
      "source": [
        "f coded variable for freq encoding\n",
        "\n",
        "t coded variable for target encoding"
      ],
      "metadata": {
        "id": "6RD3G3lZHRru"
      },
      "id": "6RD3G3lZHRru"
    },
    {
      "cell_type": "code",
      "source": [
        "from sklearn.model_selection import train_test_split\n",
        "x_trainf, x_testf, y_trainf, y_testf = train_test_split(input_df, output_df, test_size = 0.2, random_state = 42)"
      ],
      "metadata": {
        "id": "owH5opf1DO22"
      },
      "id": "owH5opf1DO22",
      "execution_count": 14,
      "outputs": []
    },
    {
      "cell_type": "code",
      "source": [
        "from sklearn.model_selection import train_test_split\n",
        "x_traint, x_testt, y_traint, y_testt = train_test_split(input_df, output_df, test_size = 0.2, random_state = 42)"
      ],
      "metadata": {
        "id": "2EheFYQjHX0F"
      },
      "id": "2EheFYQjHX0F",
      "execution_count": 15,
      "outputs": []
    },
    {
      "cell_type": "markdown",
      "source": [
        "### Feature Engineering"
      ],
      "metadata": {
        "id": "pQ1zCxV0tEhz"
      },
      "id": "pQ1zCxV0tEhz"
    },
    {
      "cell_type": "markdown",
      "source": [
        "Because Region and Country are categorical variables, it should be encoded into numerical variables using frequency encoding."
      ],
      "metadata": {
        "id": "qe0G1qqBV4dN"
      },
      "id": "qe0G1qqBV4dN"
    },
    {
      "cell_type": "code",
      "source": [
        "def features_encode(data,features):\n",
        "    freq_encoding=data.groupby(features).size()/len(data)\n",
        "    return freq_encoding\n",
        "\n",
        "x_trainf['Region']=x_trainf['Region'].map(features_encode(x_trainf,x_trainf['Region']))\n",
        "x_testf['Region']=x_testf['Region'].map(features_encode(x_testf,x_testf['Region']))\n",
        "\n",
        "x_trainf['Country']=x_trainf['Country'].map(features_encode(x_trainf,x_trainf['Country']))\n",
        "x_testf['Country']=x_testf['Country'].map(features_encode(x_testf,x_testf['Country']))"
      ],
      "metadata": {
        "id": "O4ox3yDPtHdw"
      },
      "id": "O4ox3yDPtHdw",
      "execution_count": 16,
      "outputs": []
    },
    {
      "cell_type": "markdown",
      "source": [
        "### Modeling - Bagging"
      ],
      "metadata": {
        "id": "8LDL3azjDUMV"
      },
      "id": "8LDL3azjDUMV"
    },
    {
      "cell_type": "markdown",
      "source": [
        "For the modeling, we use Bagging as it can helps to reduce variance and improve the overall performance of the model. Also, it is robust to outliers to some extent."
      ],
      "metadata": {
        "id": "wsdMr074WJAO"
      },
      "id": "wsdMr074WJAO"
    },
    {
      "cell_type": "markdown",
      "source": [
        "#### Using Frequency Encoding"
      ],
      "metadata": {
        "id": "wNTaO4JFNk4p"
      },
      "id": "wNTaO4JFNk4p"
    },
    {
      "cell_type": "code",
      "source": [
        "from sklearn.tree import DecisionTreeClassifier\n",
        "from sklearn.ensemble import BaggingRegressor\n",
        "import warnings\n",
        "warnings.filterwarnings('ignore')\n",
        "\n",
        "Bagging_class = BaggingRegressor(oob_score = True)\n",
        "Bagging_class.fit(x_trainf, y_trainf)"
      ],
      "metadata": {
        "colab": {
          "base_uri": "https://localhost:8080/",
          "height": 80
        },
        "id": "Tg47ROyLD8pu",
        "outputId": "46084ca8-015c-453b-9ff6-14d8e1a7205c"
      },
      "id": "Tg47ROyLD8pu",
      "execution_count": 17,
      "outputs": [
        {
          "output_type": "execute_result",
          "data": {
            "text/plain": [
              "BaggingRegressor(oob_score=True)"
            ],
            "text/html": [
              "<style>#sk-container-id-1 {\n",
              "  /* Definition of color scheme common for light and dark mode */\n",
              "  --sklearn-color-text: black;\n",
              "  --sklearn-color-line: gray;\n",
              "  /* Definition of color scheme for unfitted estimators */\n",
              "  --sklearn-color-unfitted-level-0: #fff5e6;\n",
              "  --sklearn-color-unfitted-level-1: #f6e4d2;\n",
              "  --sklearn-color-unfitted-level-2: #ffe0b3;\n",
              "  --sklearn-color-unfitted-level-3: chocolate;\n",
              "  /* Definition of color scheme for fitted estimators */\n",
              "  --sklearn-color-fitted-level-0: #f0f8ff;\n",
              "  --sklearn-color-fitted-level-1: #d4ebff;\n",
              "  --sklearn-color-fitted-level-2: #b3dbfd;\n",
              "  --sklearn-color-fitted-level-3: cornflowerblue;\n",
              "\n",
              "  /* Specific color for light theme */\n",
              "  --sklearn-color-text-on-default-background: var(--sg-text-color, var(--theme-code-foreground, var(--jp-content-font-color1, black)));\n",
              "  --sklearn-color-background: var(--sg-background-color, var(--theme-background, var(--jp-layout-color0, white)));\n",
              "  --sklearn-color-border-box: var(--sg-text-color, var(--theme-code-foreground, var(--jp-content-font-color1, black)));\n",
              "  --sklearn-color-icon: #696969;\n",
              "\n",
              "  @media (prefers-color-scheme: dark) {\n",
              "    /* Redefinition of color scheme for dark theme */\n",
              "    --sklearn-color-text-on-default-background: var(--sg-text-color, var(--theme-code-foreground, var(--jp-content-font-color1, white)));\n",
              "    --sklearn-color-background: var(--sg-background-color, var(--theme-background, var(--jp-layout-color0, #111)));\n",
              "    --sklearn-color-border-box: var(--sg-text-color, var(--theme-code-foreground, var(--jp-content-font-color1, white)));\n",
              "    --sklearn-color-icon: #878787;\n",
              "  }\n",
              "}\n",
              "\n",
              "#sk-container-id-1 {\n",
              "  color: var(--sklearn-color-text);\n",
              "}\n",
              "\n",
              "#sk-container-id-1 pre {\n",
              "  padding: 0;\n",
              "}\n",
              "\n",
              "#sk-container-id-1 input.sk-hidden--visually {\n",
              "  border: 0;\n",
              "  clip: rect(1px 1px 1px 1px);\n",
              "  clip: rect(1px, 1px, 1px, 1px);\n",
              "  height: 1px;\n",
              "  margin: -1px;\n",
              "  overflow: hidden;\n",
              "  padding: 0;\n",
              "  position: absolute;\n",
              "  width: 1px;\n",
              "}\n",
              "\n",
              "#sk-container-id-1 div.sk-dashed-wrapped {\n",
              "  border: 1px dashed var(--sklearn-color-line);\n",
              "  margin: 0 0.4em 0.5em 0.4em;\n",
              "  box-sizing: border-box;\n",
              "  padding-bottom: 0.4em;\n",
              "  background-color: var(--sklearn-color-background);\n",
              "}\n",
              "\n",
              "#sk-container-id-1 div.sk-container {\n",
              "  /* jupyter's `normalize.less` sets `[hidden] { display: none; }`\n",
              "     but bootstrap.min.css set `[hidden] { display: none !important; }`\n",
              "     so we also need the `!important` here to be able to override the\n",
              "     default hidden behavior on the sphinx rendered scikit-learn.org.\n",
              "     See: https://github.com/scikit-learn/scikit-learn/issues/21755 */\n",
              "  display: inline-block !important;\n",
              "  position: relative;\n",
              "}\n",
              "\n",
              "#sk-container-id-1 div.sk-text-repr-fallback {\n",
              "  display: none;\n",
              "}\n",
              "\n",
              "div.sk-parallel-item,\n",
              "div.sk-serial,\n",
              "div.sk-item {\n",
              "  /* draw centered vertical line to link estimators */\n",
              "  background-image: linear-gradient(var(--sklearn-color-text-on-default-background), var(--sklearn-color-text-on-default-background));\n",
              "  background-size: 2px 100%;\n",
              "  background-repeat: no-repeat;\n",
              "  background-position: center center;\n",
              "}\n",
              "\n",
              "/* Parallel-specific style estimator block */\n",
              "\n",
              "#sk-container-id-1 div.sk-parallel-item::after {\n",
              "  content: \"\";\n",
              "  width: 100%;\n",
              "  border-bottom: 2px solid var(--sklearn-color-text-on-default-background);\n",
              "  flex-grow: 1;\n",
              "}\n",
              "\n",
              "#sk-container-id-1 div.sk-parallel {\n",
              "  display: flex;\n",
              "  align-items: stretch;\n",
              "  justify-content: center;\n",
              "  background-color: var(--sklearn-color-background);\n",
              "  position: relative;\n",
              "}\n",
              "\n",
              "#sk-container-id-1 div.sk-parallel-item {\n",
              "  display: flex;\n",
              "  flex-direction: column;\n",
              "}\n",
              "\n",
              "#sk-container-id-1 div.sk-parallel-item:first-child::after {\n",
              "  align-self: flex-end;\n",
              "  width: 50%;\n",
              "}\n",
              "\n",
              "#sk-container-id-1 div.sk-parallel-item:last-child::after {\n",
              "  align-self: flex-start;\n",
              "  width: 50%;\n",
              "}\n",
              "\n",
              "#sk-container-id-1 div.sk-parallel-item:only-child::after {\n",
              "  width: 0;\n",
              "}\n",
              "\n",
              "/* Serial-specific style estimator block */\n",
              "\n",
              "#sk-container-id-1 div.sk-serial {\n",
              "  display: flex;\n",
              "  flex-direction: column;\n",
              "  align-items: center;\n",
              "  background-color: var(--sklearn-color-background);\n",
              "  padding-right: 1em;\n",
              "  padding-left: 1em;\n",
              "}\n",
              "\n",
              "\n",
              "/* Toggleable style: style used for estimator/Pipeline/ColumnTransformer box that is\n",
              "clickable and can be expanded/collapsed.\n",
              "- Pipeline and ColumnTransformer use this feature and define the default style\n",
              "- Estimators will overwrite some part of the style using the `sk-estimator` class\n",
              "*/\n",
              "\n",
              "/* Pipeline and ColumnTransformer style (default) */\n",
              "\n",
              "#sk-container-id-1 div.sk-toggleable {\n",
              "  /* Default theme specific background. It is overwritten whether we have a\n",
              "  specific estimator or a Pipeline/ColumnTransformer */\n",
              "  background-color: var(--sklearn-color-background);\n",
              "}\n",
              "\n",
              "/* Toggleable label */\n",
              "#sk-container-id-1 label.sk-toggleable__label {\n",
              "  cursor: pointer;\n",
              "  display: block;\n",
              "  width: 100%;\n",
              "  margin-bottom: 0;\n",
              "  padding: 0.5em;\n",
              "  box-sizing: border-box;\n",
              "  text-align: center;\n",
              "}\n",
              "\n",
              "#sk-container-id-1 label.sk-toggleable__label-arrow:before {\n",
              "  /* Arrow on the left of the label */\n",
              "  content: \"▸\";\n",
              "  float: left;\n",
              "  margin-right: 0.25em;\n",
              "  color: var(--sklearn-color-icon);\n",
              "}\n",
              "\n",
              "#sk-container-id-1 label.sk-toggleable__label-arrow:hover:before {\n",
              "  color: var(--sklearn-color-text);\n",
              "}\n",
              "\n",
              "/* Toggleable content - dropdown */\n",
              "\n",
              "#sk-container-id-1 div.sk-toggleable__content {\n",
              "  max-height: 0;\n",
              "  max-width: 0;\n",
              "  overflow: hidden;\n",
              "  text-align: left;\n",
              "  /* unfitted */\n",
              "  background-color: var(--sklearn-color-unfitted-level-0);\n",
              "}\n",
              "\n",
              "#sk-container-id-1 div.sk-toggleable__content.fitted {\n",
              "  /* fitted */\n",
              "  background-color: var(--sklearn-color-fitted-level-0);\n",
              "}\n",
              "\n",
              "#sk-container-id-1 div.sk-toggleable__content pre {\n",
              "  margin: 0.2em;\n",
              "  border-radius: 0.25em;\n",
              "  color: var(--sklearn-color-text);\n",
              "  /* unfitted */\n",
              "  background-color: var(--sklearn-color-unfitted-level-0);\n",
              "}\n",
              "\n",
              "#sk-container-id-1 div.sk-toggleable__content.fitted pre {\n",
              "  /* unfitted */\n",
              "  background-color: var(--sklearn-color-fitted-level-0);\n",
              "}\n",
              "\n",
              "#sk-container-id-1 input.sk-toggleable__control:checked~div.sk-toggleable__content {\n",
              "  /* Expand drop-down */\n",
              "  max-height: 200px;\n",
              "  max-width: 100%;\n",
              "  overflow: auto;\n",
              "}\n",
              "\n",
              "#sk-container-id-1 input.sk-toggleable__control:checked~label.sk-toggleable__label-arrow:before {\n",
              "  content: \"▾\";\n",
              "}\n",
              "\n",
              "/* Pipeline/ColumnTransformer-specific style */\n",
              "\n",
              "#sk-container-id-1 div.sk-label input.sk-toggleable__control:checked~label.sk-toggleable__label {\n",
              "  color: var(--sklearn-color-text);\n",
              "  background-color: var(--sklearn-color-unfitted-level-2);\n",
              "}\n",
              "\n",
              "#sk-container-id-1 div.sk-label.fitted input.sk-toggleable__control:checked~label.sk-toggleable__label {\n",
              "  background-color: var(--sklearn-color-fitted-level-2);\n",
              "}\n",
              "\n",
              "/* Estimator-specific style */\n",
              "\n",
              "/* Colorize estimator box */\n",
              "#sk-container-id-1 div.sk-estimator input.sk-toggleable__control:checked~label.sk-toggleable__label {\n",
              "  /* unfitted */\n",
              "  background-color: var(--sklearn-color-unfitted-level-2);\n",
              "}\n",
              "\n",
              "#sk-container-id-1 div.sk-estimator.fitted input.sk-toggleable__control:checked~label.sk-toggleable__label {\n",
              "  /* fitted */\n",
              "  background-color: var(--sklearn-color-fitted-level-2);\n",
              "}\n",
              "\n",
              "#sk-container-id-1 div.sk-label label.sk-toggleable__label,\n",
              "#sk-container-id-1 div.sk-label label {\n",
              "  /* The background is the default theme color */\n",
              "  color: var(--sklearn-color-text-on-default-background);\n",
              "}\n",
              "\n",
              "/* On hover, darken the color of the background */\n",
              "#sk-container-id-1 div.sk-label:hover label.sk-toggleable__label {\n",
              "  color: var(--sklearn-color-text);\n",
              "  background-color: var(--sklearn-color-unfitted-level-2);\n",
              "}\n",
              "\n",
              "/* Label box, darken color on hover, fitted */\n",
              "#sk-container-id-1 div.sk-label.fitted:hover label.sk-toggleable__label.fitted {\n",
              "  color: var(--sklearn-color-text);\n",
              "  background-color: var(--sklearn-color-fitted-level-2);\n",
              "}\n",
              "\n",
              "/* Estimator label */\n",
              "\n",
              "#sk-container-id-1 div.sk-label label {\n",
              "  font-family: monospace;\n",
              "  font-weight: bold;\n",
              "  display: inline-block;\n",
              "  line-height: 1.2em;\n",
              "}\n",
              "\n",
              "#sk-container-id-1 div.sk-label-container {\n",
              "  text-align: center;\n",
              "}\n",
              "\n",
              "/* Estimator-specific */\n",
              "#sk-container-id-1 div.sk-estimator {\n",
              "  font-family: monospace;\n",
              "  border: 1px dotted var(--sklearn-color-border-box);\n",
              "  border-radius: 0.25em;\n",
              "  box-sizing: border-box;\n",
              "  margin-bottom: 0.5em;\n",
              "  /* unfitted */\n",
              "  background-color: var(--sklearn-color-unfitted-level-0);\n",
              "}\n",
              "\n",
              "#sk-container-id-1 div.sk-estimator.fitted {\n",
              "  /* fitted */\n",
              "  background-color: var(--sklearn-color-fitted-level-0);\n",
              "}\n",
              "\n",
              "/* on hover */\n",
              "#sk-container-id-1 div.sk-estimator:hover {\n",
              "  /* unfitted */\n",
              "  background-color: var(--sklearn-color-unfitted-level-2);\n",
              "}\n",
              "\n",
              "#sk-container-id-1 div.sk-estimator.fitted:hover {\n",
              "  /* fitted */\n",
              "  background-color: var(--sklearn-color-fitted-level-2);\n",
              "}\n",
              "\n",
              "/* Specification for estimator info (e.g. \"i\" and \"?\") */\n",
              "\n",
              "/* Common style for \"i\" and \"?\" */\n",
              "\n",
              ".sk-estimator-doc-link,\n",
              "a:link.sk-estimator-doc-link,\n",
              "a:visited.sk-estimator-doc-link {\n",
              "  float: right;\n",
              "  font-size: smaller;\n",
              "  line-height: 1em;\n",
              "  font-family: monospace;\n",
              "  background-color: var(--sklearn-color-background);\n",
              "  border-radius: 1em;\n",
              "  height: 1em;\n",
              "  width: 1em;\n",
              "  text-decoration: none !important;\n",
              "  margin-left: 1ex;\n",
              "  /* unfitted */\n",
              "  border: var(--sklearn-color-unfitted-level-1) 1pt solid;\n",
              "  color: var(--sklearn-color-unfitted-level-1);\n",
              "}\n",
              "\n",
              ".sk-estimator-doc-link.fitted,\n",
              "a:link.sk-estimator-doc-link.fitted,\n",
              "a:visited.sk-estimator-doc-link.fitted {\n",
              "  /* fitted */\n",
              "  border: var(--sklearn-color-fitted-level-1) 1pt solid;\n",
              "  color: var(--sklearn-color-fitted-level-1);\n",
              "}\n",
              "\n",
              "/* On hover */\n",
              "div.sk-estimator:hover .sk-estimator-doc-link:hover,\n",
              ".sk-estimator-doc-link:hover,\n",
              "div.sk-label-container:hover .sk-estimator-doc-link:hover,\n",
              ".sk-estimator-doc-link:hover {\n",
              "  /* unfitted */\n",
              "  background-color: var(--sklearn-color-unfitted-level-3);\n",
              "  color: var(--sklearn-color-background);\n",
              "  text-decoration: none;\n",
              "}\n",
              "\n",
              "div.sk-estimator.fitted:hover .sk-estimator-doc-link.fitted:hover,\n",
              ".sk-estimator-doc-link.fitted:hover,\n",
              "div.sk-label-container:hover .sk-estimator-doc-link.fitted:hover,\n",
              ".sk-estimator-doc-link.fitted:hover {\n",
              "  /* fitted */\n",
              "  background-color: var(--sklearn-color-fitted-level-3);\n",
              "  color: var(--sklearn-color-background);\n",
              "  text-decoration: none;\n",
              "}\n",
              "\n",
              "/* Span, style for the box shown on hovering the info icon */\n",
              ".sk-estimator-doc-link span {\n",
              "  display: none;\n",
              "  z-index: 9999;\n",
              "  position: relative;\n",
              "  font-weight: normal;\n",
              "  right: .2ex;\n",
              "  padding: .5ex;\n",
              "  margin: .5ex;\n",
              "  width: min-content;\n",
              "  min-width: 20ex;\n",
              "  max-width: 50ex;\n",
              "  color: var(--sklearn-color-text);\n",
              "  box-shadow: 2pt 2pt 4pt #999;\n",
              "  /* unfitted */\n",
              "  background: var(--sklearn-color-unfitted-level-0);\n",
              "  border: .5pt solid var(--sklearn-color-unfitted-level-3);\n",
              "}\n",
              "\n",
              ".sk-estimator-doc-link.fitted span {\n",
              "  /* fitted */\n",
              "  background: var(--sklearn-color-fitted-level-0);\n",
              "  border: var(--sklearn-color-fitted-level-3);\n",
              "}\n",
              "\n",
              ".sk-estimator-doc-link:hover span {\n",
              "  display: block;\n",
              "}\n",
              "\n",
              "/* \"?\"-specific style due to the `<a>` HTML tag */\n",
              "\n",
              "#sk-container-id-1 a.estimator_doc_link {\n",
              "  float: right;\n",
              "  font-size: 1rem;\n",
              "  line-height: 1em;\n",
              "  font-family: monospace;\n",
              "  background-color: var(--sklearn-color-background);\n",
              "  border-radius: 1rem;\n",
              "  height: 1rem;\n",
              "  width: 1rem;\n",
              "  text-decoration: none;\n",
              "  /* unfitted */\n",
              "  color: var(--sklearn-color-unfitted-level-1);\n",
              "  border: var(--sklearn-color-unfitted-level-1) 1pt solid;\n",
              "}\n",
              "\n",
              "#sk-container-id-1 a.estimator_doc_link.fitted {\n",
              "  /* fitted */\n",
              "  border: var(--sklearn-color-fitted-level-1) 1pt solid;\n",
              "  color: var(--sklearn-color-fitted-level-1);\n",
              "}\n",
              "\n",
              "/* On hover */\n",
              "#sk-container-id-1 a.estimator_doc_link:hover {\n",
              "  /* unfitted */\n",
              "  background-color: var(--sklearn-color-unfitted-level-3);\n",
              "  color: var(--sklearn-color-background);\n",
              "  text-decoration: none;\n",
              "}\n",
              "\n",
              "#sk-container-id-1 a.estimator_doc_link.fitted:hover {\n",
              "  /* fitted */\n",
              "  background-color: var(--sklearn-color-fitted-level-3);\n",
              "}\n",
              "</style><div id=\"sk-container-id-1\" class=\"sk-top-container\"><div class=\"sk-text-repr-fallback\"><pre>BaggingRegressor(oob_score=True)</pre><b>In a Jupyter environment, please rerun this cell to show the HTML representation or trust the notebook. <br />On GitHub, the HTML representation is unable to render, please try loading this page with nbviewer.org.</b></div><div class=\"sk-container\" hidden><div class=\"sk-item\"><div class=\"sk-estimator fitted sk-toggleable\"><input class=\"sk-toggleable__control sk-hidden--visually\" id=\"sk-estimator-id-1\" type=\"checkbox\" checked><label for=\"sk-estimator-id-1\" class=\"sk-toggleable__label fitted sk-toggleable__label-arrow fitted\">&nbsp;&nbsp;BaggingRegressor<a class=\"sk-estimator-doc-link fitted\" rel=\"noreferrer\" target=\"_blank\" href=\"https://scikit-learn.org/1.5/modules/generated/sklearn.ensemble.BaggingRegressor.html\">?<span>Documentation for BaggingRegressor</span></a><span class=\"sk-estimator-doc-link fitted\">i<span>Fitted</span></span></label><div class=\"sk-toggleable__content fitted\"><pre>BaggingRegressor(oob_score=True)</pre></div> </div></div></div></div>"
            ]
          },
          "metadata": {},
          "execution_count": 17
        }
      ]
    },
    {
      "cell_type": "code",
      "source": [
        "Bagging_class.oob_score_"
      ],
      "metadata": {
        "colab": {
          "base_uri": "https://localhost:8080/"
        },
        "id": "nfXndhSNv4z_",
        "outputId": "01d07885-3ae8-4274-fbd2-6a7f90fe3a05"
      },
      "id": "nfXndhSNv4z_",
      "execution_count": 18,
      "outputs": [
        {
          "output_type": "execute_result",
          "data": {
            "text/plain": [
              "0.5397539816158914"
            ]
          },
          "metadata": {},
          "execution_count": 18
        }
      ]
    },
    {
      "cell_type": "code",
      "source": [
        "y_predictf=Bagging_class.predict(x_testf)"
      ],
      "metadata": {
        "id": "Gznfe1U6wAAi"
      },
      "id": "Gznfe1U6wAAi",
      "execution_count": 19,
      "outputs": []
    },
    {
      "cell_type": "code",
      "source": [
        "y_train_predictf = Bagging_class.predict(x_trainf)"
      ],
      "metadata": {
        "id": "1rQSvlZi3YHu"
      },
      "id": "1rQSvlZi3YHu",
      "execution_count": 20,
      "outputs": []
    },
    {
      "cell_type": "code",
      "source": [
        "from sklearn.metrics import r2_score\n",
        "from sklearn.metrics import mean_absolute_error\n",
        "from sklearn.metrics import mean_squared_error\n",
        "print('MAE Test =',mean_absolute_error(y_testf, y_predictf))\n",
        "print('MSE Test =',mean_squared_error(y_testf, y_predictf))\n",
        "print('R squared Test =',r2_score(y_testf, y_predictf))"
      ],
      "metadata": {
        "colab": {
          "base_uri": "https://localhost:8080/"
        },
        "id": "RxwgcHCLwDzU",
        "outputId": "d5c6392e-9daf-4c10-81f8-37bcde71ed25"
      },
      "id": "RxwgcHCLwDzU",
      "execution_count": 21,
      "outputs": [
        {
          "output_type": "stream",
          "name": "stdout",
          "text": [
            "MAE Test = 0.48443280977312336\n",
            "MSE Test = 0.4263741710296682\n",
            "R squared Test = 0.9948624173239003\n"
          ]
        }
      ]
    },
    {
      "cell_type": "code",
      "source": [
        "print('MAE Train =',mean_absolute_error(y_trainf, y_train_predictf))\n",
        "print('MSE Train =',mean_squared_error(y_trainf, y_train_predictf))\n",
        "print('R squared Train =',r2_score(y_trainf, y_train_predictf))"
      ],
      "metadata": {
        "colab": {
          "base_uri": "https://localhost:8080/"
        },
        "id": "4LUvdw5a2kh9",
        "outputId": "1feb7d73-e97b-47f3-9d37-d7d3bb3bde70"
      },
      "id": "4LUvdw5a2kh9",
      "execution_count": 22,
      "outputs": [
        {
          "output_type": "stream",
          "name": "stdout",
          "text": [
            "MAE Train = 0.17922741161065078\n",
            "MSE Train = 0.07910165866433871\n",
            "R squared Train = 0.9991189258328412\n"
          ]
        }
      ]
    },
    {
      "cell_type": "markdown",
      "source": [
        "#### Using Target Encoder"
      ],
      "metadata": {
        "id": "tU5vk_SSNU-q"
      },
      "id": "tU5vk_SSNU-q"
    },
    {
      "cell_type": "code",
      "source": [
        "!pip install category_encoders"
      ],
      "metadata": {
        "colab": {
          "base_uri": "https://localhost:8080/"
        },
        "id": "YkBLgnf5IaqH",
        "outputId": "a6ff471e-9f8e-431b-a216-5fa54d57a390"
      },
      "id": "YkBLgnf5IaqH",
      "execution_count": 23,
      "outputs": [
        {
          "output_type": "stream",
          "name": "stdout",
          "text": [
            "Collecting category_encoders\n",
            "  Downloading category_encoders-2.6.4-py2.py3-none-any.whl.metadata (8.0 kB)\n",
            "Requirement already satisfied: numpy>=1.14.0 in /usr/local/lib/python3.10/dist-packages (from category_encoders) (1.26.4)\n",
            "Requirement already satisfied: scikit-learn>=0.20.0 in /usr/local/lib/python3.10/dist-packages (from category_encoders) (1.5.2)\n",
            "Requirement already satisfied: scipy>=1.0.0 in /usr/local/lib/python3.10/dist-packages (from category_encoders) (1.13.1)\n",
            "Requirement already satisfied: statsmodels>=0.9.0 in /usr/local/lib/python3.10/dist-packages (from category_encoders) (0.14.4)\n",
            "Requirement already satisfied: pandas>=1.0.5 in /usr/local/lib/python3.10/dist-packages (from category_encoders) (2.2.2)\n",
            "Requirement already satisfied: patsy>=0.5.1 in /usr/local/lib/python3.10/dist-packages (from category_encoders) (0.5.6)\n",
            "Requirement already satisfied: python-dateutil>=2.8.2 in /usr/local/lib/python3.10/dist-packages (from pandas>=1.0.5->category_encoders) (2.8.2)\n",
            "Requirement already satisfied: pytz>=2020.1 in /usr/local/lib/python3.10/dist-packages (from pandas>=1.0.5->category_encoders) (2024.2)\n",
            "Requirement already satisfied: tzdata>=2022.7 in /usr/local/lib/python3.10/dist-packages (from pandas>=1.0.5->category_encoders) (2024.2)\n",
            "Requirement already satisfied: six in /usr/local/lib/python3.10/dist-packages (from patsy>=0.5.1->category_encoders) (1.16.0)\n",
            "Requirement already satisfied: joblib>=1.2.0 in /usr/local/lib/python3.10/dist-packages (from scikit-learn>=0.20.0->category_encoders) (1.4.2)\n",
            "Requirement already satisfied: threadpoolctl>=3.1.0 in /usr/local/lib/python3.10/dist-packages (from scikit-learn>=0.20.0->category_encoders) (3.5.0)\n",
            "Requirement already satisfied: packaging>=21.3 in /usr/local/lib/python3.10/dist-packages (from statsmodels>=0.9.0->category_encoders) (24.1)\n",
            "Downloading category_encoders-2.6.4-py2.py3-none-any.whl (82 kB)\n",
            "\u001b[?25l   \u001b[90m━━━━━━━━━━━━━━━━━━━━━━━━━━━━━━━━━━━━━━━━\u001b[0m \u001b[32m0.0/82.0 kB\u001b[0m \u001b[31m?\u001b[0m eta \u001b[36m-:--:--\u001b[0m\r\u001b[2K   \u001b[90m━━━━━━━━━━━━━━━━━━━━━━━━━━━━━━━━━━━━━━━━\u001b[0m \u001b[32m82.0/82.0 kB\u001b[0m \u001b[31m2.2 MB/s\u001b[0m eta \u001b[36m0:00:00\u001b[0m\n",
            "\u001b[?25hInstalling collected packages: category_encoders\n",
            "Successfully installed category_encoders-2.6.4\n"
          ]
        }
      ]
    },
    {
      "cell_type": "code",
      "source": [
        "import warnings\n",
        "import category_encoders as ce\n",
        "from sklearn.ensemble import BaggingRegressor\n",
        "from sklearn.pipeline import Pipeline\n",
        "from sklearn.tree import DecisionTreeRegressor\n",
        "\n",
        "warnings.filterwarnings('ignore')\n",
        "\n",
        "target_encoder = ce.TargetEncoder(cols=['Country', 'Region'])\n",
        "\n",
        "bagging_model = BaggingRegressor(oob_score=True)\n",
        "\n",
        "pipeline = Pipeline(steps=[\n",
        "    ('target_encoder', target_encoder),\n",
        "    ('bagging', bagging_model)\n",
        "])\n",
        "\n",
        "pipeline.fit(x_traint, y_traint)\n",
        "\n",
        "y_predt = pipeline.predict(x_testt)\n"
      ],
      "metadata": {
        "id": "GQKYOsZDFgI3"
      },
      "id": "GQKYOsZDFgI3",
      "execution_count": 24,
      "outputs": []
    },
    {
      "cell_type": "code",
      "source": [
        "bagging_model.oob_score_"
      ],
      "metadata": {
        "colab": {
          "base_uri": "https://localhost:8080/"
        },
        "id": "HC-fC_UELbOR",
        "outputId": "f749176c-d775-4a02-86c3-f9300d98534e"
      },
      "id": "HC-fC_UELbOR",
      "execution_count": 25,
      "outputs": [
        {
          "output_type": "execute_result",
          "data": {
            "text/plain": [
              "0.3742825258936131"
            ]
          },
          "metadata": {},
          "execution_count": 25
        }
      ]
    },
    {
      "cell_type": "code",
      "source": [
        "y_predictt=pipeline.predict(x_testt)"
      ],
      "metadata": {
        "id": "6QbZU4f5LYbq"
      },
      "id": "6QbZU4f5LYbq",
      "execution_count": 26,
      "outputs": []
    },
    {
      "cell_type": "code",
      "source": [
        "y_train_predictt = pipeline.predict(x_traint)"
      ],
      "metadata": {
        "id": "Gr8FHhNRMLjx"
      },
      "id": "Gr8FHhNRMLjx",
      "execution_count": 27,
      "outputs": []
    },
    {
      "cell_type": "code",
      "source": [
        "from sklearn.metrics import r2_score\n",
        "from sklearn.metrics import mean_absolute_error\n",
        "from sklearn.metrics import mean_squared_error\n",
        "print('MAE Test =',mean_absolute_error(y_testt, y_predictt))\n",
        "print('MSE Test =',mean_squared_error(y_testt, y_predictt))\n",
        "print('R squared Test =',r2_score(y_testt, y_predictt))"
      ],
      "metadata": {
        "colab": {
          "base_uri": "https://localhost:8080/"
        },
        "id": "884GJOxAMQ_r",
        "outputId": "796b42b3-bb4e-440c-8763-45358a3468f5"
      },
      "id": "884GJOxAMQ_r",
      "execution_count": 28,
      "outputs": [
        {
          "output_type": "stream",
          "name": "stdout",
          "text": [
            "MAE Test = 0.36012216404886543\n",
            "MSE Test = 0.2720452006980801\n",
            "R squared Test = 0.9967219995834944\n"
          ]
        }
      ]
    },
    {
      "cell_type": "code",
      "source": [
        "print('MAE Train =',mean_absolute_error(y_traint, y_train_predictt))\n",
        "print('MSE Train =',mean_squared_error(y_traint, y_train_predictt))\n",
        "print('R squared Train =',r2_score(y_traint, y_train_predictt))"
      ],
      "metadata": {
        "colab": {
          "base_uri": "https://localhost:8080/"
        },
        "id": "n09A_DzSMYO3",
        "outputId": "0b95334e-ec5b-40c8-9f5a-110575c1ad38"
      },
      "id": "n09A_DzSMYO3",
      "execution_count": 29,
      "outputs": [
        {
          "output_type": "stream",
          "name": "stdout",
          "text": [
            "MAE Train = 0.156508075076386\n",
            "MSE Train = 0.06162618943692696\n",
            "R squared Train = 0.9993135764224147\n"
          ]
        }
      ]
    },
    {
      "cell_type": "markdown",
      "source": [
        "##### Comparison"
      ],
      "metadata": {
        "id": "-mQ3Iuh8Nt-n"
      },
      "id": "-mQ3Iuh8Nt-n"
    },
    {
      "cell_type": "code",
      "source": [
        "from sklearn.metrics import PredictionErrorDisplay\n",
        "disp = PredictionErrorDisplay.from_predictions(y_testf, y_predictf, kind = 'actual_vs_predicted')\n",
        "plt.show()"
      ],
      "metadata": {
        "colab": {
          "base_uri": "https://localhost:8080/",
          "height": 449
        },
        "id": "jt-HtwbIzMrc",
        "outputId": "0b14d68f-e48b-4147-8525-f6c7c41dcaf7"
      },
      "id": "jt-HtwbIzMrc",
      "execution_count": 30,
      "outputs": [
        {
          "output_type": "display_data",
          "data": {
            "text/plain": [
              "<Figure size 640x480 with 1 Axes>"
            ],
            "image/png": "[encoded data removed]"
          },
          "metadata": {}
        }
      ]
    },
    {
      "cell_type": "code",
      "source": [
        "from sklearn.metrics import PredictionErrorDisplay\n",
        "disp = PredictionErrorDisplay.from_predictions(y_testt, y_predictt, kind = 'actual_vs_predicted')\n",
        "plt.show()"
      ],
      "metadata": {
        "colab": {
          "base_uri": "https://localhost:8080/",
          "height": 449
        },
        "id": "8zyBV41UNwxp",
        "outputId": "330dab15-ac8b-4787-dee2-70571325f412"
      },
      "id": "8zyBV41UNwxp",
      "execution_count": 31,
      "outputs": [
        {
          "output_type": "display_data",
          "data": {
            "text/plain": [
              "<Figure size 640x480 with 1 Axes>"
            ],
            "image/png": "[encoded data removed]"
          },
          "metadata": {}
        }
      ]
    },
    {
      "cell_type": "markdown",
      "source": [
        "After comparing target encoding and frequency encoding, the MAE, MSE, and R Square Score is better using target, so the data encoded with target will be used\n",
        "\n",
        "Looking at the graph, the value is predicted more accurately using Target Encoder"
      ],
      "metadata": {
        "id": "Q0eavLzEM39C"
      },
      "id": "Q0eavLzEM39C"
    },
    {
      "cell_type": "markdown",
      "source": [
        "### Feature Scaling"
      ],
      "metadata": {
        "id": "jiFhqXyi1-FT"
      },
      "id": "jiFhqXyi1-FT"
    },
    {
      "cell_type": "markdown",
      "source": [
        "There are some variables that have bigger scale than the other. Therefore, we perform feature scaling to reduce the scale, so every variables have a similar scale."
      ],
      "metadata": {
        "id": "1eyEo9VkW1fj"
      },
      "id": "1eyEo9VkW1fj"
    },
    {
      "cell_type": "code",
      "source": [
        "x_traint.head()"
      ],
      "metadata": {
        "colab": {
          "base_uri": "https://localhost:8080/",
          "height": 278
        },
        "id": "D6C6FhVrIQtm",
        "outputId": "14a0e7fd-737e-427e-a409-98f474e9dc0a"
      },
      "id": "D6C6FhVrIQtm",
      "execution_count": 32,
      "outputs": [
        {
          "output_type": "execute_result",
          "data": {
            "text/plain": [
              "            Country          Region  Year  Infant_deaths  Under_five_deaths  \\\n",
              "2026      Sri Lanka            Asia  2014            7.9                9.3   \n",
              "651         Czechia  European Union  2004            3.7                4.6   \n",
              "2225  Venezuela, RB   South America  2014           15.4               18.0   \n",
              "2357        Albania  Rest of Europe  2010           11.8               13.3   \n",
              "670         Namibia          Africa  2003           43.3               74.4   \n",
              "\n",
              "      Adult_mortality  Alcohol_consumption  Hepatitis_B  Measles   BMI  Polio  \\\n",
              "2026         111.2825                 2.45           99       99  22.9     99   \n",
              "651          114.2985                13.42           98       98  26.6     96   \n",
              "2225         143.0785                 6.60           78       83  26.6     79   \n",
              "2357          80.9365                 4.88           99       98  26.1     99   \n",
              "670          495.7265                 2.29           83       64  23.2     82   \n",
              "\n",
              "      Diphtheria  Incidents_HIV  GDP_per_capita  Population_mln  \\\n",
              "2026          99           0.01            3694           20.78   \n",
              "651           98           0.08           14070           10.20   \n",
              "2225          78           0.40           16056           30.04   \n",
              "2357          99           0.03            3577            2.91   \n",
              "670           79           9.74            3298            1.88   \n",
              "\n",
              "      Thinness_ten_nineteen_years  Thinness_five_nine_years  Schooling  \\\n",
              "2026                         15.2                      15.0       10.9   \n",
              "651                           2.1                       2.2       11.6   \n",
              "2225                          1.6                       1.5       10.0   \n",
              "2357                          1.4                       1.5        9.3   \n",
              "670                          14.2                      14.3        5.8   \n",
              "\n",
              "      Economy_status_Developed  Economy_status_Developing  \n",
              "2026                         0                          1  \n",
              "651                          1                          0  \n",
              "2225                         0                          1  \n",
              "2357                         0                          1  \n",
              "670                          0                          1  "
            ],
            "text/html": [
              "\n",
              "  <div id=\"df-da275916-c593-4070-9d26-d61471fe485e\" class=\"colab-df-container\">\n",
              "    <div>\n",
              "<style scoped>\n",
              "    .dataframe tbody tr th:only-of-type {\n",
              "        vertical-align: middle;\n",
              "    }\n",
              "\n",
              "    .dataframe tbody tr th {\n",
              "        vertical-align: top;\n",
              "    }\n",
              "\n",
              "    .dataframe thead th {\n",
              "        text-align: right;\n",
              "    }\n",
              "</style>\n",
              "<table border=\"1\" class=\"dataframe\">\n",
              "  <thead>\n",
              "    <tr style=\"text-align: right;\">\n",
              "      <th></th>\n",
              "      <th>Country</th>\n",
              "      <th>Region</th>\n",
              "      <th>Year</th>\n",
              "      <th>Infant_deaths</th>\n",
              "      <th>Under_five_deaths</th>\n",
              "      <th>Adult_mortality</th>\n",
              "      <th>Alcohol_consumption</th>\n",
              "      <th>Hepatitis_B</th>\n",
              "      <th>Measles</th>\n",
              "      <th>BMI</th>\n",
              "      <th>Polio</th>\n",
              "      <th>Diphtheria</th>\n",
              "      <th>Incidents_HIV</th>\n",
              "      <th>GDP_per_capita</th>\n",
              "      <th>Population_mln</th>\n",
              "      <th>Thinness_ten_nineteen_years</th>\n",
              "      <th>Thinness_five_nine_years</th>\n",
              "      <th>Schooling</th>\n",
              "      <th>Economy_status_Developed</th>\n",
              "      <th>Economy_status_Developing</th>\n",
              "    </tr>\n",
              "  </thead>\n",
              "  <tbody>\n",
              "    <tr>\n",
              "      <th>2026</th>\n",
              "      <td>Sri Lanka</td>\n",
              "      <td>Asia</td>\n",
              "      <td>2014</td>\n",
              "      <td>7.9</td>\n",
              "      <td>9.3</td>\n",
              "      <td>111.2825</td>\n",
              "      <td>2.45</td>\n",
              "      <td>99</td>\n",
              "      <td>99</td>\n",
              "      <td>22.9</td>\n",
              "      <td>99</td>\n",
              "      <td>99</td>\n",
              "      <td>0.01</td>\n",
              "      <td>3694</td>\n",
              "      <td>20.78</td>\n",
              "      <td>15.2</td>\n",
              "      <td>15.0</td>\n",
              "      <td>10.9</td>\n",
              "      <td>0</td>\n",
              "      <td>1</td>\n",
              "    </tr>\n",
              "    <tr>\n",
              "      <th>651</th>\n",
              "      <td>Czechia</td>\n",
              "      <td>European Union</td>\n",
              "      <td>2004</td>\n",
              "      <td>3.7</td>\n",
              "      <td>4.6</td>\n",
              "      <td>114.2985</td>\n",
              "      <td>13.42</td>\n",
              "      <td>98</td>\n",
              "      <td>98</td>\n",
              "      <td>26.6</td>\n",
              "      <td>96</td>\n",
              "      <td>98</td>\n",
              "      <td>0.08</td>\n",
              "      <td>14070</td>\n",
              "      <td>10.20</td>\n",
              "      <td>2.1</td>\n",
              "      <td>2.2</td>\n",
              "      <td>11.6</td>\n",
              "      <td>1</td>\n",
              "      <td>0</td>\n",
              "    </tr>\n",
              "    <tr>\n",
              "      <th>2225</th>\n",
              "      <td>Venezuela, RB</td>\n",
              "      <td>South America</td>\n",
              "      <td>2014</td>\n",
              "      <td>15.4</td>\n",
              "      <td>18.0</td>\n",
              "      <td>143.0785</td>\n",
              "      <td>6.60</td>\n",
              "      <td>78</td>\n",
              "      <td>83</td>\n",
              "      <td>26.6</td>\n",
              "      <td>79</td>\n",
              "      <td>78</td>\n",
              "      <td>0.40</td>\n",
              "      <td>16056</td>\n",
              "      <td>30.04</td>\n",
              "      <td>1.6</td>\n",
              "      <td>1.5</td>\n",
              "      <td>10.0</td>\n",
              "      <td>0</td>\n",
              "      <td>1</td>\n",
              "    </tr>\n",
              "    <tr>\n",
              "      <th>2357</th>\n",
              "      <td>Albania</td>\n",
              "      <td>Rest of Europe</td>\n",
              "      <td>2010</td>\n",
              "      <td>11.8</td>\n",
              "      <td>13.3</td>\n",
              "      <td>80.9365</td>\n",
              "      <td>4.88</td>\n",
              "      <td>99</td>\n",
              "      <td>98</td>\n",
              "      <td>26.1</td>\n",
              "      <td>99</td>\n",
              "      <td>99</td>\n",
              "      <td>0.03</td>\n",
              "      <td>3577</td>\n",
              "      <td>2.91</td>\n",
              "      <td>1.4</td>\n",
              "      <td>1.5</td>\n",
              "      <td>9.3</td>\n",
              "      <td>0</td>\n",
              "      <td>1</td>\n",
              "    </tr>\n",
              "    <tr>\n",
              "      <th>670</th>\n",
              "      <td>Namibia</td>\n",
              "      <td>Africa</td>\n",
              "      <td>2003</td>\n",
              "      <td>43.3</td>\n",
              "      <td>74.4</td>\n",
              "      <td>495.7265</td>\n",
              "      <td>2.29</td>\n",
              "      <td>83</td>\n",
              "      <td>64</td>\n",
              "      <td>23.2</td>\n",
              "      <td>82</td>\n",
              "      <td>79</td>\n",
              "      <td>9.74</td>\n",
              "      <td>3298</td>\n",
              "      <td>1.88</td>\n",
              "      <td>14.2</td>\n",
              "      <td>14.3</td>\n",
              "      <td>5.8</td>\n",
              "      <td>0</td>\n",
              "      <td>1</td>\n",
              "    </tr>\n",
              "  </tbody>\n",
              "</table>\n",
              "</div>\n",
              "    <div class=\"colab-df-buttons\">\n",
              "\n",
              "  <div class=\"colab-df-container\">\n",
              "    <button class=\"colab-df-convert\" onclick=\"convertToInteractive('df-da275916-c593-4070-9d26-d61471fe485e')\"\n",
              "            title=\"Convert this dataframe to an interactive table.\"\n",
              "            style=\"display:none;\">\n",
              "\n",
              "  <svg xmlns=\"http://www.w3.org/2000/svg\" height=\"24px\" viewBox=\"0 -960 960 960\">\n",
              "    <path d=\"M120-120v-720h720v720H120Zm60-500h600v-160H180v160Zm220 220h160v-160H400v160Zm0 220h160v-160H400v160ZM180-400h160v-160H180v160Zm440 0h160v-160H620v160ZM180-180h160v-160H180v160Zm440 0h160v-160H620v160Z\"/>\n",
              "  </svg>\n",
              "    </button>\n",
              "\n",
              "  <style>\n",
              "    .colab-df-container {\n",
              "      display:flex;\n",
              "      gap: 12px;\n",
              "    }\n",
              "\n",
              "    .colab-df-convert {\n",
              "      background-color: #E8F0FE;\n",
              "      border: none;\n",
              "      border-radius: 50%;\n",
              "      cursor: pointer;\n",
              "      display: none;\n",
              "      fill: #1967D2;\n",
              "      height: 32px;\n",
              "      padding: 0 0 0 0;\n",
              "      width: 32px;\n",
              "    }\n",
              "\n",
              "    .colab-df-convert:hover {\n",
              "      background-color: #E2EBFA;\n",
              "      box-shadow: 0px 1px 2px rgba(60, 64, 67, 0.3), 0px 1px 3px 1px rgba(60, 64, 67, 0.15);\n",
              "      fill: #174EA6;\n",
              "    }\n",
              "\n",
              "    .colab-df-buttons div {\n",
              "      margin-bottom: 4px;\n",
              "    }\n",
              "\n",
              "    [theme=dark] .colab-df-convert {\n",
              "      background-color: #3B4455;\n",
              "      fill: #D2E3FC;\n",
              "    }\n",
              "\n",
              "    [theme=dark] .colab-df-convert:hover {\n",
              "      background-color: #434B5C;\n",
              "      box-shadow: 0px 1px 3px 1px rgba(0, 0, 0, 0.15);\n",
              "      filter: drop-shadow(0px 1px 2px rgba(0, 0, 0, 0.3));\n",
              "      fill: #FFFFFF;\n",
              "    }\n",
              "  </style>\n",
              "\n",
              "    <script>\n",
              "      const buttonEl =\n",
              "        document.querySelector('#df-da275916-c593-4070-9d26-d61471fe485e button.colab-df-convert');\n",
              "      buttonEl.style.display =\n",
              "        google.colab.kernel.accessAllowed ? 'block' : 'none';\n",
              "\n",
              "      async function convertToInteractive(key) {\n",
              "        const element = document.querySelector('#df-da275916-c593-4070-9d26-d61471fe485e');\n",
              "        const dataTable =\n",
              "          await google.colab.kernel.invokeFunction('convertToInteractive',\n",
              "                                                    [key], {});\n",
              "        if (!dataTable) return;\n",
              "\n",
              "        const docLinkHtml = 'Like what you see? Visit the ' +\n",
              "          '<a target=\"_blank\" href=https://colab.research.google.com/notebooks/data_table.ipynb>data table notebook</a>'\n",
              "          + ' to learn more about interactive tables.';\n",
              "        element.innerHTML = '';\n",
              "        dataTable['output_type'] = 'display_data';\n",
              "        await google.colab.output.renderOutput(dataTable, element);\n",
              "        const docLink = document.createElement('div');\n",
              "        docLink.innerHTML = docLinkHtml;\n",
              "        element.appendChild(docLink);\n",
              "      }\n",
              "    </script>\n",
              "  </div>\n",
              "\n",
              "\n",
              "<div id=\"df-a51e4745-2d0d-4b1d-bf5e-7e96e8856bf3\">\n",
              "  <button class=\"colab-df-quickchart\" onclick=\"quickchart('df-a51e4745-2d0d-4b1d-bf5e-7e96e8856bf3')\"\n",
              "            title=\"Suggest charts\"\n",
              "            style=\"display:none;\">\n",
              "\n",
              "<svg xmlns=\"http://www.w3.org/2000/svg\" height=\"24px\"viewBox=\"0 0 24 24\"\n",
              "     width=\"24px\">\n",
              "    <g>\n",
              "        <path d=\"M19 3H5c-1.1 0-2 .9-2 2v14c0 1.1.9 2 2 2h14c1.1 0 2-.9 2-2V5c0-1.1-.9-2-2-2zM9 17H7v-7h2v7zm4 0h-2V7h2v10zm4 0h-2v-4h2v4z\"/>\n",
              "    </g>\n",
              "</svg>\n",
              "  </button>\n",
              "\n",
              "<style>\n",
              "  .colab-df-quickchart {\n",
              "      --bg-color: #E8F0FE;\n",
              "      --fill-color: #1967D2;\n",
              "      --hover-bg-color: #E2EBFA;\n",
              "      --hover-fill-color: #174EA6;\n",
              "      --disabled-fill-color: #AAA;\n",
              "      --disabled-bg-color: #DDD;\n",
              "  }\n",
              "\n",
              "  [theme=dark] .colab-df-quickchart {\n",
              "      --bg-color: #3B4455;\n",
              "      --fill-color: #D2E3FC;\n",
              "      --hover-bg-color: #434B5C;\n",
              "      --hover-fill-color: #FFFFFF;\n",
              "      --disabled-bg-color: #3B4455;\n",
              "      --disabled-fill-color: #666;\n",
              "  }\n",
              "\n",
              "  .colab-df-quickchart {\n",
              "    background-color: var(--bg-color);\n",
              "    border: none;\n",
              "    border-radius: 50%;\n",
              "    cursor: pointer;\n",
              "    display: none;\n",
              "    fill: var(--fill-color);\n",
              "    height: 32px;\n",
              "    padding: 0;\n",
              "    width: 32px;\n",
              "  }\n",
              "\n",
              "  .colab-df-quickchart:hover {\n",
              "    background-color: var(--hover-bg-color);\n",
              "    box-shadow: 0 1px 2px rgba(60, 64, 67, 0.3), 0 1px 3px 1px rgba(60, 64, 67, 0.15);\n",
              "    fill: var(--button-hover-fill-color);\n",
              "  }\n",
              "\n",
              "  .colab-df-quickchart-complete:disabled,\n",
              "  .colab-df-quickchart-complete:disabled:hover {\n",
              "    background-color: var(--disabled-bg-color);\n",
              "    fill: var(--disabled-fill-color);\n",
              "    box-shadow: none;\n",
              "  }\n",
              "\n",
              "  .colab-df-spinner {\n",
              "    border: 2px solid var(--fill-color);\n",
              "    border-color: transparent;\n",
              "    border-bottom-color: var(--fill-color);\n",
              "    animation:\n",
              "      spin 1s steps(1) infinite;\n",
              "  }\n",
              "\n",
              "  @keyframes spin {\n",
              "    0% {\n",
              "      border-color: transparent;\n",
              "      border-bottom-color: var(--fill-color);\n",
              "      border-left-color: var(--fill-color);\n",
              "    }\n",
              "    20% {\n",
              "      border-color: transparent;\n",
              "      border-left-color: var(--fill-color);\n",
              "      border-top-color: var(--fill-color);\n",
              "    }\n",
              "    30% {\n",
              "      border-color: transparent;\n",
              "      border-left-color: var(--fill-color);\n",
              "      border-top-color: var(--fill-color);\n",
              "      border-right-color: var(--fill-color);\n",
              "    }\n",
              "    40% {\n",
              "      border-color: transparent;\n",
              "      border-right-color: var(--fill-color);\n",
              "      border-top-color: var(--fill-color);\n",
              "    }\n",
              "    60% {\n",
              "      border-color: transparent;\n",
              "      border-right-color: var(--fill-color);\n",
              "    }\n",
              "    80% {\n",
              "      border-color: transparent;\n",
              "      border-right-color: var(--fill-color);\n",
              "      border-bottom-color: var(--fill-color);\n",
              "    }\n",
              "    90% {\n",
              "      border-color: transparent;\n",
              "      border-bottom-color: var(--fill-color);\n",
              "    }\n",
              "  }\n",
              "</style>\n",
              "\n",
              "  <script>\n",
              "    async function quickchart(key) {\n",
              "      const quickchartButtonEl =\n",
              "        document.querySelector('#' + key + ' button');\n",
              "      quickchartButtonEl.disabled = true;  // To prevent multiple clicks.\n",
              "      quickchartButtonEl.classList.add('colab-df-spinner');\n",
              "      try {\n",
              "        const charts = await google.colab.kernel.invokeFunction(\n",
              "            'suggestCharts', [key], {});\n",
              "      } catch (error) {\n",
              "        console.error('Error during call to suggestCharts:', error);\n",
              "      }\n",
              "      quickchartButtonEl.classList.remove('colab-df-spinner');\n",
              "      quickchartButtonEl.classList.add('colab-df-quickchart-complete');\n",
              "    }\n",
              "    (() => {\n",
              "      let quickchartButtonEl =\n",
              "        document.querySelector('#df-a51e4745-2d0d-4b1d-bf5e-7e96e8856bf3 button');\n",
              "      quickchartButtonEl.style.display =\n",
              "        google.colab.kernel.accessAllowed ? 'block' : 'none';\n",
              "    })();\n",
              "  </script>\n",
              "</div>\n",
              "\n",
              "    </div>\n",
              "  </div>\n"
            ],
            "application/vnd.google.colaboratory.intrinsic+json": {
              "type": "dataframe",
              "variable_name": "x_traint",
              "summary": "{\n  \"name\": \"x_traint\",\n  \"rows\": 2291,\n  \"fields\": [\n    {\n      \"column\": \"Country\",\n      \"properties\": {\n        \"dtype\": \"category\",\n        \"num_unique_values\": 179,\n        \"samples\": [\n          \"Italy\",\n          \"Libya\",\n          \"Algeria\"\n        ],\n        \"semantic_type\": \"\",\n        \"description\": \"\"\n      }\n    },\n    {\n      \"column\": \"Region\",\n      \"properties\": {\n        \"dtype\": \"category\",\n        \"num_unique_values\": 9,\n        \"samples\": [\n          \"Central America and Caribbean\",\n          \"European Union\",\n          \"Middle East\"\n        ],\n        \"semantic_type\": \"\",\n        \"description\": \"\"\n      }\n    },\n    {\n      \"column\": \"Year\",\n      \"properties\": {\n        \"dtype\": \"number\",\n        \"std\": 4,\n        \"min\": 2000,\n        \"max\": 2015,\n        \"num_unique_values\": 16,\n        \"samples\": [\n          2014,\n          2004,\n          2000\n        ],\n        \"semantic_type\": \"\",\n        \"description\": \"\"\n      }\n    },\n    {\n      \"column\": \"Infant_deaths\",\n      \"properties\": {\n        \"dtype\": \"number\",\n        \"std\": 27.740828238881722,\n        \"min\": 1.8,\n        \"max\": 135.6,\n        \"num_unique_values\": 769,\n        \"samples\": [\n          92.9,\n          51.8,\n          39.7\n        ],\n        \"semantic_type\": \"\",\n        \"description\": \"\"\n      }\n    },\n    {\n      \"column\": \"Under_five_deaths\",\n      \"properties\": {\n        \"dtype\": \"number\",\n        \"std\": 44.88049570235782,\n        \"min\": 2.3,\n        \"max\": 224.9,\n        \"num_unique_values\": 932,\n        \"samples\": [\n          13.4,\n          2.9,\n          114.5\n        ],\n        \"semantic_type\": \"\",\n        \"description\": \"\"\n      }\n    },\n    {\n      \"column\": \"Adult_mortality\",\n      \"properties\": {\n        \"dtype\": \"number\",\n        \"std\": 115.83104340026682,\n        \"min\": 49.384,\n        \"max\": 703.677,\n        \"num_unique_values\": 2282,\n        \"samples\": [\n          352.9365,\n          156.2355,\n          250.8075\n        ],\n        \"semantic_type\": \"\",\n        \"description\": \"\"\n      }\n    },\n    {\n      \"column\": \"Alcohol_consumption\",\n      \"properties\": {\n        \"dtype\": \"number\",\n        \"std\": 3.989852669405328,\n        \"min\": 0.0,\n        \"max\": 17.87,\n        \"num_unique_values\": 1076,\n        \"samples\": [\n          9.32,\n          3.92,\n          10.44\n        ],\n        \"semantic_type\": \"\",\n        \"description\": \"\"\n      }\n    },\n    {\n      \"column\": \"Hepatitis_B\",\n      \"properties\": {\n        \"dtype\": \"number\",\n        \"std\": 16,\n        \"min\": 12,\n        \"max\": 99,\n        \"num_unique_values\": 79,\n        \"samples\": [\n          66,\n          99,\n          87\n        ],\n        \"semantic_type\": \"\",\n        \"description\": \"\"\n      }\n    },\n    {\n      \"column\": \"Measles\",\n      \"properties\": {\n        \"dtype\": \"number\",\n        \"std\": 18,\n        \"min\": 10,\n        \"max\": 99,\n        \"num_unique_values\": 86,\n        \"samples\": [\n          41,\n          99,\n          29\n        ],\n        \"semantic_type\": \"\",\n        \"description\": \"\"\n      }\n    },\n    {\n      \"column\": \"BMI\",\n      \"properties\": {\n        \"dtype\": \"number\",\n        \"std\": 2.202377283589555,\n        \"min\": 19.8,\n        \"max\": 32.1,\n        \"num_unique_values\": 116,\n        \"samples\": [\n          27.7,\n          28.0,\n          22.5\n        ],\n        \"semantic_type\": \"\",\n        \"description\": \"\"\n      }\n    },\n    {\n      \"column\": \"Polio\",\n      \"properties\": {\n        \"dtype\": \"number\",\n        \"std\": 15,\n        \"min\": 8,\n        \"max\": 99,\n        \"num_unique_values\": 76,\n        \"samples\": [\n          95,\n          78,\n          60\n        ],\n        \"semantic_type\": \"\",\n        \"description\": \"\"\n      }\n    },\n    {\n      \"column\": \"Diphtheria\",\n      \"properties\": {\n        \"dtype\": \"number\",\n        \"std\": 15,\n        \"min\": 16,\n        \"max\": 99,\n        \"num_unique_values\": 79,\n        \"samples\": [\n          72,\n          99,\n          59\n        ],\n        \"semantic_type\": \"\",\n        \"description\": \"\"\n      }\n    },\n    {\n      \"column\": \"Incidents_HIV\",\n      \"properties\": {\n        \"dtype\": \"number\",\n        \"std\": 2.385074053103785,\n        \"min\": 0.01,\n        \"max\": 21.68,\n        \"num_unique_values\": 356,\n        \"samples\": [\n          12.36,\n          17.55,\n          14.94\n        ],\n        \"semantic_type\": \"\",\n        \"description\": \"\"\n      }\n    },\n    {\n      \"column\": \"GDP_per_capita\",\n      \"properties\": {\n        \"dtype\": \"number\",\n        \"std\": 17244,\n        \"min\": 148,\n        \"max\": 112418,\n        \"num_unique_values\": 2088,\n        \"samples\": [\n          5436,\n          44245,\n          13803\n        ],\n        \"semantic_type\": \"\",\n        \"description\": \"\"\n      }\n    },\n    {\n      \"column\": \"Population_mln\",\n      \"properties\": {\n        \"dtype\": \"number\",\n        \"std\": 137.29157816466113,\n        \"min\": 0.08,\n        \"max\": 1379.86,\n        \"num_unique_values\": 1545,\n        \"samples\": [\n          90.42,\n          40.48,\n          12.42\n        ],\n        \"semantic_type\": \"\",\n        \"description\": \"\"\n      }\n    },\n    {\n      \"column\": \"Thinness_ten_nineteen_years\",\n      \"properties\": {\n        \"dtype\": \"number\",\n        \"std\": 4.394820034447874,\n        \"min\": 0.1,\n        \"max\": 27.7,\n        \"num_unique_values\": 188,\n        \"samples\": [\n          16.9,\n          21.8,\n          8.4\n        ],\n        \"semantic_type\": \"\",\n        \"description\": \"\"\n      }\n    },\n    {\n      \"column\": \"Thinness_five_nine_years\",\n      \"properties\": {\n        \"dtype\": \"number\",\n        \"std\": 4.480632736177978,\n        \"min\": 0.1,\n        \"max\": 28.6,\n        \"num_unique_values\": 194,\n        \"samples\": [\n          12.9,\n          8.5,\n          6.7\n        ],\n        \"semantic_type\": \"\",\n        \"description\": \"\"\n      }\n    },\n    {\n      \"column\": \"Schooling\",\n      \"properties\": {\n        \"dtype\": \"number\",\n        \"std\": 3.1926054878222296,\n        \"min\": 1.1,\n        \"max\": 14.0,\n        \"num_unique_values\": 129,\n        \"samples\": [\n          6.5,\n          5.5,\n          7.9\n        ],\n        \"semantic_type\": \"\",\n        \"description\": \"\"\n      }\n    },\n    {\n      \"column\": \"Economy_status_Developed\",\n      \"properties\": {\n        \"dtype\": \"number\",\n        \"std\": 0,\n        \"min\": 0,\n        \"max\": 1,\n        \"num_unique_values\": 2,\n        \"samples\": [\n          1,\n          0\n        ],\n        \"semantic_type\": \"\",\n        \"description\": \"\"\n      }\n    },\n    {\n      \"column\": \"Economy_status_Developing\",\n      \"properties\": {\n        \"dtype\": \"number\",\n        \"std\": 0,\n        \"min\": 0,\n        \"max\": 1,\n        \"num_unique_values\": 2,\n        \"samples\": [\n          0,\n          1\n        ],\n        \"semantic_type\": \"\",\n        \"description\": \"\"\n      }\n    }\n  ]\n}"
            }
          },
          "metadata": {},
          "execution_count": 32
        }
      ]
    },
    {
      "cell_type": "markdown",
      "source": [
        "#### Scaling and Bagging"
      ],
      "metadata": {
        "id": "tLA36aJjK00D"
      },
      "id": "tLA36aJjK00D"
    },
    {
      "cell_type": "code",
      "source": [
        "import category_encoders as ce\n",
        "from sklearn.ensemble import BaggingRegressor\n",
        "from sklearn.pipeline import Pipeline\n",
        "from sklearn.preprocessing import RobustScaler\n",
        "import warnings\n",
        "\n",
        "warnings.filterwarnings('ignore')\n",
        "\n",
        "target_encoder = ce.TargetEncoder(cols=['Country', 'Region'])\n",
        "\n",
        "scaler = RobustScaler()\n",
        "\n",
        "pipeline = Pipeline(steps=[\n",
        "    ('target_encoder', target_encoder),\n",
        "    ('scaler', scaler)\n",
        "])\n",
        "\n",
        "x_traint_transformed = pipeline.fit_transform(x_traint, y_traint)\n",
        "\n",
        "x_testt_transformed = pipeline.transform(x_testt)\n",
        "\n",
        "Bagging_class = BaggingRegressor(oob_score=True)\n",
        "\n",
        "Bagging_class.fit(x_traint_transformed, y_traint)\n",
        "\n",
        "y_predt = Bagging_class.predict(x_testt_transformed)\n"
      ],
      "metadata": {
        "id": "UoCc9ugRO5kF"
      },
      "id": "UoCc9ugRO5kF",
      "execution_count": 34,
      "outputs": []
    },
    {
      "cell_type": "code",
      "source": [
        "Bagging_class.oob_score_"
      ],
      "metadata": {
        "colab": {
          "base_uri": "https://localhost:8080/"
        },
        "id": "GVEn7XacK8a_",
        "outputId": "f263f443-953b-4364-cf7d-5ff79f2c43cf"
      },
      "id": "GVEn7XacK8a_",
      "execution_count": 35,
      "outputs": [
        {
          "output_type": "execute_result",
          "data": {
            "text/plain": [
              "0.3305930638405016"
            ]
          },
          "metadata": {},
          "execution_count": 35
        }
      ]
    },
    {
      "cell_type": "code",
      "source": [
        "y_predt=Bagging_class.predict(x_testt_transformed)"
      ],
      "metadata": {
        "id": "XVb2YjgiK_h2"
      },
      "id": "XVb2YjgiK_h2",
      "execution_count": 36,
      "outputs": []
    },
    {
      "cell_type": "code",
      "source": [
        "y_train_predictt = Bagging_class.predict(x_traint_transformed)"
      ],
      "metadata": {
        "id": "Lr2nngKELDBd"
      },
      "id": "Lr2nngKELDBd",
      "execution_count": 37,
      "outputs": []
    },
    {
      "cell_type": "code",
      "source": [
        "from sklearn.metrics import r2_score\n",
        "from sklearn.metrics import mean_absolute_error\n",
        "from sklearn.metrics import mean_squared_error\n",
        "print('MAE Test =',mean_absolute_error(y_testt, y_predt))\n",
        "print('MSE Test =',mean_squared_error(y_testt, y_predt))\n",
        "print('R squared Test =',r2_score(y_testt, y_predt))"
      ],
      "metadata": {
        "colab": {
          "base_uri": "https://localhost:8080/"
        },
        "id": "ASGfivSGLFUz",
        "outputId": "2673e776-ee2f-43c5-e161-984374c98582"
      },
      "id": "ASGfivSGLFUz",
      "execution_count": 38,
      "outputs": [
        {
          "output_type": "stream",
          "name": "stdout",
          "text": [
            "MAE Test = 0.33891797556719055\n",
            "MSE Test = 0.24743560209424112\n",
            "R squared Test = 0.9970185321974365\n"
          ]
        }
      ]
    },
    {
      "cell_type": "code",
      "source": [
        "print('MAE Train =',mean_absolute_error(y_traint, y_train_predictt))\n",
        "print('MSE Train =',mean_squared_error(y_traint, y_train_predictt))\n",
        "print('R squared Train =',r2_score(y_traint, y_train_predictt))"
      ],
      "metadata": {
        "colab": {
          "base_uri": "https://localhost:8080/"
        },
        "id": "JrnAzH2dLJK8",
        "outputId": "7f61a0e1-5672-4c44-ce3c-caeb3bbd7db8"
      },
      "id": "JrnAzH2dLJK8",
      "execution_count": 39,
      "outputs": [
        {
          "output_type": "stream",
          "name": "stdout",
          "text": [
            "MAE Train = 0.1525141859450024\n",
            "MSE Train = 0.05873814927979053\n",
            "R squared Train = 0.9993457448701961\n"
          ]
        }
      ]
    },
    {
      "cell_type": "code",
      "source": [
        "from sklearn.metrics import PredictionErrorDisplay\n",
        "disp = PredictionErrorDisplay.from_predictions(y_testt, y_predt, kind = 'actual_vs_predicted')\n",
        "plt.show()"
      ],
      "metadata": {
        "colab": {
          "base_uri": "https://localhost:8080/",
          "height": 449
        },
        "id": "F6QdiGIy2BlB",
        "outputId": "9d35ed2c-ea76-470b-a40f-0e0b0b80f07e"
      },
      "id": "F6QdiGIy2BlB",
      "execution_count": 40,
      "outputs": [
        {
          "output_type": "display_data",
          "data": {
            "text/plain": [
              "<Figure size 640x480 with 1 Axes>"
            ],
            "image/png": "[encoded data removed]"
          },
          "metadata": {}
        }
      ]
    },
    {
      "cell_type": "markdown",
      "source": [
        "### Conclusion"
      ],
      "metadata": {
        "id": "fMWgM1-Y9F0U"
      },
      "id": "fMWgM1-Y9F0U"
    },
    {
      "cell_type": "markdown",
      "source": [
        "The model can predict well using the bagging method, when the encoder is Target Encoding for thr column 'Region' and 'Country', then due to the variations of the data, i tried to use robust scaling (due to lots of outliers present) but the result is not really significant.\n",
        "\n",
        "Meaning that the model is good enough with just Bagging and using Target Encoding, without the scaling."
      ],
      "metadata": {
        "id": "ceFm5acE9ITr"
      },
      "id": "ceFm5acE9ITr"
    }
  ],
  "metadata": {
    "kernelspec": {
      "display_name": "Python 3 (ipykernel)",
      "language": "python",
      "name": "python3"
    },
    "language_info": {
      "codemirror_mode": {
        "name": "ipython",
        "version": 3
      },
      "file_extension": ".py",
      "mimetype": "text/x-python",
      "name": "python",
      "nbconvert_exporter": "python",
      "pygments_lexer": "ipython3",
      "version": "3.9.12"
    },
    "colab": {
      "provenance": []
    }
  },
  "nbformat": 4,
  "nbformat_minor": 5
}